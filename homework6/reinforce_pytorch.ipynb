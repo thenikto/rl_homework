{
  "cells": [
    {
      "cell_type": "markdown",
      "metadata": {
        "id": "OHAXAMwRYbM0"
      },
      "source": [
        "# REINFORCE in PyTorch\n",
        "\n",
        "Just like we did before for Q-learning, this time we'll design a PyTorch network to learn `CartPole-v0` via policy gradient (REINFORCE).\n",
        "\n",
        "Most of the code in this notebook is taken from approximate Q-learning, so you'll find it more or less familiar and even simpler."
      ]
    },
    {
      "cell_type": "code",
      "execution_count": 1,
      "metadata": {
        "colab": {
          "base_uri": "https://localhost:8080/"
        },
        "id": "WBx2PMI7YbM1",
        "outputId": "aa8884aa-1a6c-4f8c-9793-64063e226c32"
      },
      "outputs": [
        {
          "output_type": "stream",
          "name": "stdout",
          "text": [
            "W: Skipping acquire of configured file 'main/source/Sources' as repository 'https://r2u.stat.illinois.edu/ubuntu jammy InRelease' does not seem to provide it (sources.list entry misspelt?)\n",
            "Requirement already satisfied: moviepy in /usr/local/lib/python3.11/dist-packages (1.0.3)\n",
            "Requirement already satisfied: decorator<5.0,>=4.0.2 in /usr/local/lib/python3.11/dist-packages (from moviepy) (4.4.2)\n",
            "Requirement already satisfied: tqdm<5.0,>=4.11.2 in /usr/local/lib/python3.11/dist-packages (from moviepy) (4.67.1)\n",
            "Requirement already satisfied: requests<3.0,>=2.8.1 in /usr/local/lib/python3.11/dist-packages (from moviepy) (2.32.3)\n",
            "Requirement already satisfied: proglog<=1.0.0 in /usr/local/lib/python3.11/dist-packages (from moviepy) (0.1.12)\n",
            "Requirement already satisfied: numpy>=1.17.3 in /usr/local/lib/python3.11/dist-packages (from moviepy) (2.0.2)\n",
            "Requirement already satisfied: imageio<3.0,>=2.5 in /usr/local/lib/python3.11/dist-packages (from moviepy) (2.37.0)\n",
            "Requirement already satisfied: imageio-ffmpeg>=0.2.0 in /usr/local/lib/python3.11/dist-packages (from moviepy) (0.6.0)\n",
            "Requirement already satisfied: pillow>=8.3.2 in /usr/local/lib/python3.11/dist-packages (from imageio<3.0,>=2.5->moviepy) (11.2.1)\n",
            "Requirement already satisfied: charset-normalizer<4,>=2 in /usr/local/lib/python3.11/dist-packages (from requests<3.0,>=2.8.1->moviepy) (3.4.2)\n",
            "Requirement already satisfied: idna<4,>=2.5 in /usr/local/lib/python3.11/dist-packages (from requests<3.0,>=2.8.1->moviepy) (3.10)\n",
            "Requirement already satisfied: urllib3<3,>=1.21.1 in /usr/local/lib/python3.11/dist-packages (from requests<3.0,>=2.8.1->moviepy) (2.4.0)\n",
            "Requirement already satisfied: certifi>=2017.4.17 in /usr/local/lib/python3.11/dist-packages (from requests<3.0,>=2.8.1->moviepy) (2025.4.26)\n",
            "Reading package lists... Done\n",
            "Building dependency tree... Done\n",
            "Reading state information... Done\n",
            "ffmpeg is already the newest version (7:4.4.2-0ubuntu0.22.04.1).\n",
            "0 upgraded, 0 newly installed, 0 to remove and 100 not upgraded.\n",
            "Requirement already satisfied: imageio-ffmpeg in /usr/local/lib/python3.11/dist-packages (0.6.0)\n",
            "Starting virtual X frame buffer: Xvfb.\n"
          ]
        }
      ],
      "source": [
        "import sys, os\n",
        "if 'google.colab' in sys.modules and not os.path.exists('.setup_complete'):\n",
        "    !wget -q https://raw.githubusercontent.com/yandexdataschool/Practical_RL/master/setup_colab.sh -O- | bash\n",
        "    !pip install -q gymnasium\n",
        "    !pip install moviepy\n",
        "    !apt install ffmpeg\n",
        "    !pip install imageio-ffmpeg\n",
        "    !touch .setup_complete\n",
        "\n",
        "# This code creates a virtual display to draw game images on.\n",
        "# It will have no effect if your machine has a monitor.\n",
        "if type(os.environ.get(\"DISPLAY\")) is not str or len(os.environ.get(\"DISPLAY\")) == 0:\n",
        "    !bash ../xvfb start\n",
        "    os.environ['DISPLAY'] = ':1'"
      ]
    },
    {
      "cell_type": "code",
      "execution_count": 2,
      "metadata": {
        "id": "WlAfaIebYbM2"
      },
      "outputs": [],
      "source": [
        "import gymnasium as gym\n",
        "import numpy as np\n",
        "import matplotlib.pyplot as plt\n",
        "%matplotlib inline"
      ]
    },
    {
      "cell_type": "code",
      "execution_count": 3,
      "metadata": {
        "id": "JKscWsyqYbM2"
      },
      "outputs": [],
      "source": [
        "# also you need to install ffmpeg if not installed\n",
        "# for MacOS: ! brew install ffmpeg"
      ]
    },
    {
      "cell_type": "markdown",
      "metadata": {
        "id": "Cia-AsikYbM2"
      },
      "source": [
        "A caveat: with some versions of `pyglet`, the following cell may crash with `NameError: name 'base' is not defined`. The corresponding bug report is [here](https://github.com/pyglet/pyglet/issues/134). If you see this error, try restarting the kernel."
      ]
    },
    {
      "cell_type": "code",
      "execution_count": 4,
      "metadata": {
        "colab": {
          "base_uri": "https://localhost:8080/",
          "height": 413
        },
        "id": "z6q_dmMrYbM3",
        "outputId": "ea8e798c-223b-4b93-e664-3f2542a58f9f"
      },
      "outputs": [
        {
          "output_type": "execute_result",
          "data": {
            "text/plain": [
              "<matplotlib.image.AxesImage at 0x78992d2a5a90>"
            ]
          },
          "metadata": {},
          "execution_count": 4
        },
        {
          "output_type": "display_data",
          "data": {
            "text/plain": [
              "<Figure size 640x480 with 1 Axes>"
            ],
            "image/png": "[encoded data removed]"
          },
          "metadata": {}
        }
      ],
      "source": [
        "env = gym.make(\"CartPole-v1\", render_mode=\"rgb_array\")\n",
        "\n",
        "# gym compatibility: unwrap TimeLimit\n",
        "if hasattr(env, '_max_episode_steps'):\n",
        "    env = env.env\n",
        "\n",
        "env.reset()\n",
        "n_actions = env.action_space.n\n",
        "state_dim = env.observation_space.shape\n",
        "\n",
        "plt.imshow(env.render())"
      ]
    },
    {
      "cell_type": "markdown",
      "metadata": {
        "id": "yTsqStr_YbM3"
      },
      "source": [
        "# Building the network for REINFORCE"
      ]
    },
    {
      "cell_type": "markdown",
      "metadata": {
        "id": "bFT6hkHkYbM3"
      },
      "source": [
        "For REINFORCE algorithm, we'll need a model that predicts action probabilities given states.\n",
        "\n",
        "For numerical stability, please __do not include the softmax layer into your network architecture__.\n",
        "We'll use softmax or log-softmax where appropriate."
      ]
    },
    {
      "cell_type": "code",
      "execution_count": 5,
      "metadata": {
        "id": "0EPD31WBYbM3"
      },
      "outputs": [],
      "source": [
        "import torch\n",
        "import torch.nn as nn\n",
        "import torch.nn.functional as F"
      ]
    },
    {
      "cell_type": "code",
      "source": [
        "device = torch.device('cuda' if torch.cuda.is_available() else 'cpu')\n",
        "print(device)"
      ],
      "metadata": {
        "colab": {
          "base_uri": "https://localhost:8080/"
        },
        "id": "zs71Wfazrd15",
        "outputId": "f95615a2-0c5f-4b90-c3ba-78948db1abc7"
      },
      "execution_count": 6,
      "outputs": [
        {
          "output_type": "stream",
          "name": "stdout",
          "text": [
            "cpu\n"
          ]
        }
      ]
    },
    {
      "cell_type": "code",
      "execution_count": 7,
      "metadata": {
        "id": "lZ947ksmYbM3"
      },
      "outputs": [],
      "source": [
        "# Build a simple neural network that predicts policy logits.\n",
        "# Keep it simple: CartPole isn't worth deep architectures.\n",
        "model = nn.Sequential(\n",
        "    nn.Linear(state_dim[0], 128),\n",
        "    nn.ReLU(),\n",
        "    nn.Linear(128, n_actions)\n",
        ").to(device)"
      ]
    },
    {
      "cell_type": "markdown",
      "metadata": {
        "id": "4BT52ZGXYbM3"
      },
      "source": [
        "#### Predict function"
      ]
    },
    {
      "cell_type": "markdown",
      "metadata": {
        "id": "kJfOFqKwYbM4"
      },
      "source": [
        "Note: output value of this function is not a torch tensor, it's a numpy array.\n",
        "So, here gradient calculation is not needed.\n",
        "<br>\n",
        "Use [no_grad](https://pytorch.org/docs/stable/autograd.html#torch.autograd.no_grad)\n",
        "to suppress gradient calculation.\n",
        "<br>\n",
        "Also, `.detach()` (or legacy `.data` property) can be used instead, but there is a difference:\n",
        "<br>\n",
        "With `.detach()` computational graph is built but then disconnected from a particular tensor,\n",
        "so `.detach()` should be used if that graph is needed for backprop via some other (not detached) tensor;\n",
        "<br>\n",
        "In contrast, no graph is built by any operation in `no_grad()` context, thus it's preferable here."
      ]
    },
    {
      "cell_type": "code",
      "execution_count": 8,
      "metadata": {
        "id": "_8OjZ0JUYbM4"
      },
      "outputs": [],
      "source": [
        "def predict_probs(states):\n",
        "    \"\"\"\n",
        "    Predict action probabilities given states.\n",
        "    :param states: numpy array of shape [batch, state_shape]\n",
        "    :returns: numpy array of shape [batch, n_actions]\n",
        "    \"\"\"\n",
        "    with torch.no_grad():\n",
        "      states_t = torch.tensor(states, dtype=torch.float32)\n",
        "      logits = model(states_t)\n",
        "      probs = F.softmax(logits, dim=1)\n",
        "    # convert states, compute logits, use softmax to get probability\n",
        "    return probs.numpy()"
      ]
    },
    {
      "cell_type": "code",
      "execution_count": 9,
      "metadata": {
        "id": "R7H6zal-YbM4"
      },
      "outputs": [],
      "source": [
        "test_states = np.array([env.reset()[0] for _ in range(5)])\n",
        "test_probas = predict_probs(test_states)\n",
        "assert isinstance(test_probas, np.ndarray), \\\n",
        "    \"you must return np array and not %s\" % type(test_probas)\n",
        "assert tuple(test_probas.shape) == (test_states.shape[0], env.action_space.n), \\\n",
        "    \"wrong output shape: %s\" % np.shape(test_probas)\n",
        "assert np.allclose(np.sum(test_probas, axis=1), 1), \"probabilities do not sum to 1\""
      ]
    },
    {
      "cell_type": "markdown",
      "metadata": {
        "id": "h25JnSsfYbM4"
      },
      "source": [
        "### Play the game\n",
        "\n",
        "We can now use our newly built agent to play the game."
      ]
    },
    {
      "cell_type": "code",
      "execution_count": 10,
      "metadata": {
        "id": "NTdEdp8oYbM4"
      },
      "outputs": [],
      "source": [
        "def generate_session(env, t_max=1000):\n",
        "    \"\"\"\n",
        "    Play a full session with REINFORCE agent.\n",
        "    Returns sequences of states, actions, and rewards.\n",
        "    \"\"\"\n",
        "    # arrays to record session\n",
        "    states, actions, rewards = [], [], []\n",
        "\n",
        "    s = env.reset()[0]\n",
        "\n",
        "    for t in range(t_max):\n",
        "        # action probabilities array aka pi(a|s)\n",
        "        action_probs = predict_probs(np.array([s]))[0]\n",
        "\n",
        "        # Sample action with given probabilities.\n",
        "        a = np.random.choice(len(action_probs), p=action_probs)\n",
        "\n",
        "        new_s, r, terminated, truncated, info = env.step(a)\n",
        "\n",
        "        # record session history to train later\n",
        "        states.append(s)\n",
        "        actions.append(a)\n",
        "        rewards.append(r)\n",
        "\n",
        "        s = new_s\n",
        "        if terminated or truncated:\n",
        "            break\n",
        "\n",
        "    return states, actions, rewards"
      ]
    },
    {
      "cell_type": "code",
      "execution_count": 11,
      "metadata": {
        "id": "edbD-XjmYbM4"
      },
      "outputs": [],
      "source": [
        "# test it\n",
        "states, actions, rewards = generate_session(env)"
      ]
    },
    {
      "cell_type": "markdown",
      "metadata": {
        "id": "Kut61PwEYbM5"
      },
      "source": [
        "### Computing cumulative rewards\n",
        "\n",
        "$$\n",
        "\\begin{align*}\n",
        "G_t &= r_t + \\gamma r_{t + 1} + \\gamma^2 r_{t + 2} + \\ldots \\\\\n",
        "&= \\sum_{i = t}^T \\gamma^{i - t} r_i \\\\\n",
        "&= r_t + \\gamma * G_{t + 1}\n",
        "\\end{align*}\n",
        "$$"
      ]
    },
    {
      "cell_type": "code",
      "execution_count": 12,
      "metadata": {
        "id": "BDwHX_EVYbM5"
      },
      "outputs": [],
      "source": [
        "def get_cumulative_rewards(rewards,  # rewards at each step\n",
        "                           gamma=0.99  # discount for reward\n",
        "                           ):\n",
        "    \"\"\"\n",
        "    Take a list of immediate rewards r(s,a) for the whole session\n",
        "    and compute cumulative returns (a.k.a. G(s,a) in Sutton '16).\n",
        "\n",
        "    G_t = r_t + gamma*r_{t+1} + gamma^2*r_{t+2} + ...\n",
        "\n",
        "    A simple way to compute cumulative rewards is to iterate from the last\n",
        "    to the first timestep and compute G_t = r_t + gamma*G_{t+1} recurrently\n",
        "\n",
        "    You must return an array/list of cumulative rewards with as many elements as in the initial rewards.\n",
        "    \"\"\"\n",
        "    G = []\n",
        "    summa = 0.0\n",
        "    for r in reversed(rewards):\n",
        "      summa = r + gamma * summa\n",
        "      G.insert(0, summa)\n",
        "\n",
        "    return G"
      ]
    },
    {
      "cell_type": "code",
      "execution_count": 13,
      "metadata": {
        "colab": {
          "base_uri": "https://localhost:8080/"
        },
        "id": "jn6GsqhaYbM5",
        "outputId": "814a3087-30eb-4c68-9db4-c3a483d1a6b1"
      },
      "outputs": [
        {
          "output_type": "stream",
          "name": "stdout",
          "text": [
            "looks good!\n"
          ]
        }
      ],
      "source": [
        "get_cumulative_rewards(rewards)\n",
        "assert len(get_cumulative_rewards(list(range(100)))) == 100\n",
        "assert np.allclose(\n",
        "    get_cumulative_rewards([0, 0, 1, 0, 0, 1, 0], gamma=0.9),\n",
        "    [1.40049, 1.5561, 1.729, 0.81, 0.9, 1.0, 0.0])\n",
        "assert np.allclose(\n",
        "    get_cumulative_rewards([0, 0, 1, -2, 3, -4, 0], gamma=0.5),\n",
        "    [0.0625, 0.125, 0.25, -1.5, 1.0, -4.0, 0.0])\n",
        "assert np.allclose(\n",
        "    get_cumulative_rewards([0, 0, 1, 2, 3, 4, 0], gamma=0),\n",
        "    [0, 0, 1, 2, 3, 4, 0])\n",
        "print(\"looks good!\")"
      ]
    },
    {
      "cell_type": "markdown",
      "metadata": {
        "id": "vECzJaNCYbM5"
      },
      "source": [
        "#### Loss function and updates\n",
        "\n",
        "We now need to define objective and update over policy gradient.\n",
        "\n",
        "Our objective function is\n",
        "\n",
        "$$ J \\approx  { 1 \\over N } \\sum_{s_i,a_i} G(s_i,a_i) $$\n",
        "\n",
        "REINFORCE defines a way to compute the gradient of the expected reward with respect to policy parameters. The formula is as follows:\n",
        "\n",
        "$$ \\nabla_\\theta \\hat J(\\theta) \\approx { 1 \\over N } \\sum_{s_i, a_i} \\nabla_\\theta \\log \\pi_\\theta (a_i \\mid s_i) \\cdot G_t(s_i, a_i) $$\n",
        "\n",
        "We can abuse PyTorch's capabilities for automatic differentiation by defining our objective function as follows:\n",
        "\n",
        "$$ \\hat J(\\theta) \\approx { 1 \\over N } \\sum_{s_i, a_i} \\log \\pi_\\theta (a_i \\mid s_i) \\cdot G_t(s_i, a_i) $$\n",
        "\n",
        "When you compute the gradient of that function with respect to network weights $\\theta$, it will become exactly the policy gradient."
      ]
    },
    {
      "cell_type": "code",
      "execution_count": 14,
      "metadata": {
        "id": "WMW3LuFhYbM5"
      },
      "outputs": [],
      "source": [
        "# Your code: define optimizers\n",
        "optimizer = torch.optim.Adam(model.parameters(), 1e-3)\n",
        "\n",
        "\n",
        "def train_on_session(states, actions, rewards, gamma=0.99, entropy_coef=1e-2):\n",
        "    \"\"\"\n",
        "    Takes a sequence of states, actions and rewards produced by generate_session.\n",
        "    Updates agent's weights by following the policy gradient above.\n",
        "    Please use Adam optimizer with default parameters.\n",
        "    \"\"\"\n",
        "\n",
        "    # cast everything into torch tensors\n",
        "    states = torch.tensor(states, dtype=torch.float32)\n",
        "    actions = torch.tensor(actions, dtype=torch.int64)\n",
        "    cumulative_returns = np.array(get_cumulative_rewards(rewards, gamma))\n",
        "    cumulative_returns = torch.tensor(cumulative_returns, dtype=torch.float32)\n",
        "\n",
        "    # predict logits, probas and log-probas using an agent.\n",
        "    logits = model(states)\n",
        "    probs = nn.functional.softmax(logits, -1)\n",
        "    log_probs = nn.functional.log_softmax(logits, -1)\n",
        "\n",
        "    assert all(isinstance(v, torch.Tensor) for v in [logits, probs, log_probs]), \\\n",
        "        \"please use compute using torch tensors and don't use predict_probs function\"\n",
        "\n",
        "    # select log-probabilities for chosen actions, log pi(a_i|s_i)\n",
        "    log_probs_for_actions = torch.sum(\n",
        "        log_probs * F.one_hot(actions, env.action_space.n), dim=1)\n",
        "\n",
        "    # Compute loss here. Don't forgen entropy regularization with `entropy_coef`\n",
        "\n",
        "    entropy = -torch.sum(probs * log_probs, dim=1).mean()\n",
        "    loss = -torch.mean(log_probs_for_actions * cumulative_returns) - entropy_coef * entropy\n",
        "\n",
        "    # Gradient descent step\n",
        "    optimizer.zero_grad()\n",
        "    loss.backward()\n",
        "    optimizer.step()\n",
        "\n",
        "    # technical: return session rewards to print them later\n",
        "    return np.sum(rewards)"
      ]
    },
    {
      "cell_type": "markdown",
      "metadata": {
        "id": "nV6m9tYDYbM5"
      },
      "source": [
        "### The actual training"
      ]
    },
    {
      "cell_type": "code",
      "execution_count": 15,
      "metadata": {
        "colab": {
          "base_uri": "https://localhost:8080/"
        },
        "id": "-vfiKTt2YbM5",
        "outputId": "1bc06bd6-7c95-4c94-9d3b-04eb8ac4f66a"
      },
      "outputs": [
        {
          "output_type": "stream",
          "name": "stderr",
          "text": [
            "<ipython-input-14-8344b92eac5b>:13: UserWarning: Creating a tensor from a list of numpy.ndarrays is extremely slow. Please consider converting the list to a single numpy.ndarray with numpy.array() before converting to a tensor. (Triggered internally at /pytorch/torch/csrc/utils/tensor_new.cpp:254.)\n",
            "  states = torch.tensor(states, dtype=torch.float32)\n"
          ]
        },
        {
          "output_type": "stream",
          "name": "stdout",
          "text": [
            "mean reward: 23.490\n",
            "mean reward: 37.020\n",
            "mean reward: 49.940\n",
            "mean reward: 58.850\n",
            "mean reward: 114.310\n",
            "mean reward: 167.950\n",
            "mean reward: 213.400\n",
            "mean reward: 214.400\n",
            "mean reward: 186.920\n",
            "mean reward: 344.820\n",
            "mean reward: 380.380\n",
            "mean reward: 215.860\n",
            "mean reward: 137.580\n",
            "mean reward: 135.610\n",
            "mean reward: 136.450\n",
            "mean reward: 166.360\n",
            "mean reward: 135.610\n",
            "mean reward: 123.770\n",
            "mean reward: 92.420\n",
            "mean reward: 181.570\n",
            "mean reward: 393.460\n",
            "mean reward: 214.150\n",
            "mean reward: 242.940\n",
            "mean reward: 614.790\n",
            "You Win!\n"
          ]
        }
      ],
      "source": [
        "for i in range(100):\n",
        "    rewards = [train_on_session(*generate_session(env)) for _ in range(100)]  # generate new sessions\n",
        "\n",
        "    print(\"mean reward: %.3f\" % (np.mean(rewards)))\n",
        "\n",
        "    if np.mean(rewards) > 500:\n",
        "        print(\"You Win!\")  # but you can train even further\n",
        "        break"
      ]
    },
    {
      "cell_type": "markdown",
      "metadata": {
        "id": "xsu1S67jYbM5"
      },
      "source": [
        "### Results & video"
      ]
    },
    {
      "cell_type": "code",
      "execution_count": 16,
      "metadata": {
        "id": "LHiJ0_KkYbM5"
      },
      "outputs": [],
      "source": [
        "# Record sessions\n",
        "\n",
        "from gymnasium.wrappers import RecordVideo\n",
        "\n",
        "with gym.make(\"CartPole-v1\", render_mode=\"rgb_array\") as env, RecordVideo(\n",
        "    env=env, video_folder=\"./videos\"\n",
        ") as env_monitor:\n",
        "    sessions = [generate_session(env_monitor) for _ in range(10)]\n"
      ]
    },
    {
      "cell_type": "code",
      "execution_count": 17,
      "metadata": {
        "colab": {
          "base_uri": "https://localhost:8080/",
          "height": 501
        },
        "id": "4DSnoYuFYbM6",
        "outputId": "c57ed192-373b-473e-9225-352161d168c9"
      },
      "outputs": [
        {
          "output_type": "execute_result",
          "data": {
            "text/plain": [
              "<IPython.core.display.HTML object>"
            ],
            "text/html": [
              "\n",
              "<video width=\"640\" height=\"480\" controls>\n",
              "  <source src=\"data:video/mp4;base64,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\" type=\"video/mp4\">\n",
              "</video>\n"
            ]
          },
          "metadata": {},
          "execution_count": 17
        }
      ],
      "source": [
        "# Show video. This may not work in some setups. If it doesn't\n",
        "# work for you, you can download the videos and view them locally.\n",
        "\n",
        "from pathlib import Path\n",
        "from base64 import b64encode\n",
        "from IPython.display import HTML\n",
        "\n",
        "video_paths = sorted([s for s in Path('videos').iterdir() if s.suffix == '.mp4'])\n",
        "video_path = video_paths[-1]  # You can also try other indices\n",
        "\n",
        "if 'google.colab' in sys.modules:\n",
        "    # https://stackoverflow.com/a/57378660/1214547\n",
        "    with video_path.open('rb') as fp:\n",
        "        mp4 = fp.read()\n",
        "    data_url = 'data:video/mp4;base64,' + b64encode(mp4).decode()\n",
        "else:\n",
        "    data_url = str(video_path)\n",
        "\n",
        "HTML(\"\"\"\n",
        "<video width=\"640\" height=\"480\" controls>\n",
        "  <source src=\"{}\" type=\"video/mp4\">\n",
        "</video>\n",
        "\"\"\".format(data_url))"
      ]
    }
  ],
  "metadata": {
    "kernelspec": {
      "display_name": "Python 3",
      "name": "python3"
    },
    "language_info": {
      "codemirror_mode": {
        "name": "ipython",
        "version": 3
      },
      "file_extension": ".py",
      "mimetype": "text/x-python",
      "name": "python",
      "nbconvert_exporter": "python",
      "pygments_lexer": "ipython3",
      "version": "3.9.16"
    },
    "colab": {
      "provenance": []
    }
  },
  "nbformat": 4,
  "nbformat_minor": 0
}