{
  "cells": [
    {
      "cell_type": "markdown",
      "metadata": {
        "id": "I_i1q1TWG9zH"
      },
      "source": [
        "# Deep Crossentropy method\n",
        "\n",
        "In this section we'll extend your CEM implementation with neural networks! You will train a multi-layer neural network to solve simple continuous state space games. __Please make sure you're done with tabular crossentropy method from the previous notebook.__\n",
        "\n",
        "![img](https://watanimg.elwatannews.com/old_news_images/large/249765_Large_20140709045740_11.jpg)\n",
        "\n"
      ]
    },
    {
      "cell_type": "code",
      "execution_count": null,
      "metadata": {
        "id": "t4CJ1sRyG9zJ"
      },
      "outputs": [],
      "source": [
        "import sys, os\n",
        "if 'google.colab' in sys.modules and not os.path.exists('.setup_complete'):\n",
        "    !wget -q https://raw.githubusercontent.com/yandexdataschool/Practical_RL/master/setup_colab.sh -O- | bash\n",
        "    !touch .setup_complete\n",
        "\n",
        "# This code creates a virtual display to draw game images on.\n",
        "# It will have no effect if your machine has a monitor.\n",
        "if type(os.environ.get(\"DISPLAY\")) is not str or len(os.environ.get(\"DISPLAY\")) == 0:\n",
        "    !bash ../xvfb start\n",
        "    os.environ['DISPLAY'] = ':1'"
      ]
    },
    {
      "cell_type": "code",
      "execution_count": null,
      "metadata": {
        "id": "C2xd5vPwPVCb",
        "colab": {
          "base_uri": "https://localhost:8080/"
        },
        "outputId": "e9a841a9-39e7-42a2-ea4d-9aadde9d9218"
      },
      "outputs": [
        {
          "output_type": "stream",
          "name": "stdout",
          "text": [
            "Requirement already satisfied: gymnasium[classic_control,toy_text] in /usr/local/lib/python3.11/dist-packages (1.1.1)\n",
            "Requirement already satisfied: numpy>=1.21.0 in /usr/local/lib/python3.11/dist-packages (from gymnasium[classic_control,toy_text]) (2.0.2)\n",
            "Requirement already satisfied: cloudpickle>=1.2.0 in /usr/local/lib/python3.11/dist-packages (from gymnasium[classic_control,toy_text]) (3.1.1)\n",
            "Requirement already satisfied: typing-extensions>=4.3.0 in /usr/local/lib/python3.11/dist-packages (from gymnasium[classic_control,toy_text]) (4.13.2)\n",
            "Requirement already satisfied: farama-notifications>=0.0.1 in /usr/local/lib/python3.11/dist-packages (from gymnasium[classic_control,toy_text]) (0.0.4)\n",
            "Requirement already satisfied: pygame>=2.1.3 in /usr/local/lib/python3.11/dist-packages (from gymnasium[classic_control,toy_text]) (2.6.1)\n"
          ]
        }
      ],
      "source": [
        "# Install gymnasium if you didn't\n",
        "!pip install \"gymnasium[toy_text,classic_control]\""
      ]
    },
    {
      "cell_type": "code",
      "execution_count": null,
      "metadata": {
        "id": "_2zbc7ahG9zK",
        "colab": {
          "base_uri": "https://localhost:8080/",
          "height": 465
        },
        "outputId": "9189ed30-ef44-45a0-e7e5-3798d8d5f93f"
      },
      "outputs": [
        {
          "output_type": "stream",
          "name": "stdout",
          "text": [
            "state vector dim = 4\n",
            "n_actions = 2\n"
          ]
        },
        {
          "output_type": "stream",
          "name": "stderr",
          "text": [
            "/usr/local/lib/python3.11/dist-packages/gymnasium/envs/registration.py:519: DeprecationWarning: \u001b[33mWARN: The environment CartPole-v0 is out of date. You should consider upgrading to version `v1`.\u001b[0m\n",
            "  logger.deprecation(\n"
          ]
        },
        {
          "output_type": "display_data",
          "data": {
            "text/plain": [
              "<Figure size 640x480 with 1 Axes>"
            ],
            "image/png": "[encoded data removed]"
          },
          "metadata": {}
        }
      ],
      "source": [
        "import gymnasium as gym\n",
        "import numpy as np\n",
        "import matplotlib.pyplot as plt\n",
        "%matplotlib inline\n",
        "\n",
        "# if you see \"<classname> has no attribute .env\", remove .env or update gym\n",
        "env = gym.make(\"CartPole-v0\", render_mode=\"rgb_array\").env\n",
        "\n",
        "env.reset()\n",
        "n_actions = env.action_space.n\n",
        "state_dim = env.observation_space.shape[0]\n",
        "\n",
        "plt.imshow(env.render())\n",
        "print(\"state vector dim =\", state_dim)\n",
        "print(\"n_actions =\", n_actions)\n",
        "\n",
        "env.close()"
      ]
    },
    {
      "cell_type": "markdown",
      "metadata": {
        "id": "Z72_alhdG9zK"
      },
      "source": [
        "# Neural Network Policy\n",
        "\n",
        "For this assignment we'll utilize the simplified neural network implementation from __[Scikit-learn](https://scikit-learn.org/stable/modules/generated/sklearn.neural_network.MLPClassifier.html)__. Here's what you'll need:\n",
        "\n",
        "* `agent.partial_fit(states, actions)` - make a single training pass over the data. Maximize the probability of :actions: from :states:\n",
        "* `agent.predict_proba(states)` - predict probabilities of all actions, a matrix of shape __[len(states), n_actions]__\n"
      ]
    },
    {
      "cell_type": "code",
      "execution_count": null,
      "metadata": {
        "id": "wLItY4unG9zL",
        "colab": {
          "base_uri": "https://localhost:8080/",
          "height": 80
        },
        "outputId": "823cce80-d222-4c37-fed3-7f6305905dc8"
      },
      "outputs": [
        {
          "output_type": "execute_result",
          "data": {
            "text/plain": [
              "MLPClassifier(activation='tanh', hidden_layer_sizes=(20, 20))"
            ],
            "text/html": [
              "<style>#sk-container-id-2 {\n",
              "  /* Definition of color scheme common for light and dark mode */\n",
              "  --sklearn-color-text: #000;\n",
              "  --sklearn-color-text-muted: #666;\n",
              "  --sklearn-color-line: gray;\n",
              "  /* Definition of color scheme for unfitted estimators */\n",
              "  --sklearn-color-unfitted-level-0: #fff5e6;\n",
              "  --sklearn-color-unfitted-level-1: #f6e4d2;\n",
              "  --sklearn-color-unfitted-level-2: #ffe0b3;\n",
              "  --sklearn-color-unfitted-level-3: chocolate;\n",
              "  /* Definition of color scheme for fitted estimators */\n",
              "  --sklearn-color-fitted-level-0: #f0f8ff;\n",
              "  --sklearn-color-fitted-level-1: #d4ebff;\n",
              "  --sklearn-color-fitted-level-2: #b3dbfd;\n",
              "  --sklearn-color-fitted-level-3: cornflowerblue;\n",
              "\n",
              "  /* Specific color for light theme */\n",
              "  --sklearn-color-text-on-default-background: var(--sg-text-color, var(--theme-code-foreground, var(--jp-content-font-color1, black)));\n",
              "  --sklearn-color-background: var(--sg-background-color, var(--theme-background, var(--jp-layout-color0, white)));\n",
              "  --sklearn-color-border-box: var(--sg-text-color, var(--theme-code-foreground, var(--jp-content-font-color1, black)));\n",
              "  --sklearn-color-icon: #696969;\n",
              "\n",
              "  @media (prefers-color-scheme: dark) {\n",
              "    /* Redefinition of color scheme for dark theme */\n",
              "    --sklearn-color-text-on-default-background: var(--sg-text-color, var(--theme-code-foreground, var(--jp-content-font-color1, white)));\n",
              "    --sklearn-color-background: var(--sg-background-color, var(--theme-background, var(--jp-layout-color0, #111)));\n",
              "    --sklearn-color-border-box: var(--sg-text-color, var(--theme-code-foreground, var(--jp-content-font-color1, white)));\n",
              "    --sklearn-color-icon: #878787;\n",
              "  }\n",
              "}\n",
              "\n",
              "#sk-container-id-2 {\n",
              "  color: var(--sklearn-color-text);\n",
              "}\n",
              "\n",
              "#sk-container-id-2 pre {\n",
              "  padding: 0;\n",
              "}\n",
              "\n",
              "#sk-container-id-2 input.sk-hidden--visually {\n",
              "  border: 0;\n",
              "  clip: rect(1px 1px 1px 1px);\n",
              "  clip: rect(1px, 1px, 1px, 1px);\n",
              "  height: 1px;\n",
              "  margin: -1px;\n",
              "  overflow: hidden;\n",
              "  padding: 0;\n",
              "  position: absolute;\n",
              "  width: 1px;\n",
              "}\n",
              "\n",
              "#sk-container-id-2 div.sk-dashed-wrapped {\n",
              "  border: 1px dashed var(--sklearn-color-line);\n",
              "  margin: 0 0.4em 0.5em 0.4em;\n",
              "  box-sizing: border-box;\n",
              "  padding-bottom: 0.4em;\n",
              "  background-color: var(--sklearn-color-background);\n",
              "}\n",
              "\n",
              "#sk-container-id-2 div.sk-container {\n",
              "  /* jupyter's `normalize.less` sets `[hidden] { display: none; }`\n",
              "     but bootstrap.min.css set `[hidden] { display: none !important; }`\n",
              "     so we also need the `!important` here to be able to override the\n",
              "     default hidden behavior on the sphinx rendered scikit-learn.org.\n",
              "     See: https://github.com/scikit-learn/scikit-learn/issues/21755 */\n",
              "  display: inline-block !important;\n",
              "  position: relative;\n",
              "}\n",
              "\n",
              "#sk-container-id-2 div.sk-text-repr-fallback {\n",
              "  display: none;\n",
              "}\n",
              "\n",
              "div.sk-parallel-item,\n",
              "div.sk-serial,\n",
              "div.sk-item {\n",
              "  /* draw centered vertical line to link estimators */\n",
              "  background-image: linear-gradient(var(--sklearn-color-text-on-default-background), var(--sklearn-color-text-on-default-background));\n",
              "  background-size: 2px 100%;\n",
              "  background-repeat: no-repeat;\n",
              "  background-position: center center;\n",
              "}\n",
              "\n",
              "/* Parallel-specific style estimator block */\n",
              "\n",
              "#sk-container-id-2 div.sk-parallel-item::after {\n",
              "  content: \"\";\n",
              "  width: 100%;\n",
              "  border-bottom: 2px solid var(--sklearn-color-text-on-default-background);\n",
              "  flex-grow: 1;\n",
              "}\n",
              "\n",
              "#sk-container-id-2 div.sk-parallel {\n",
              "  display: flex;\n",
              "  align-items: stretch;\n",
              "  justify-content: center;\n",
              "  background-color: var(--sklearn-color-background);\n",
              "  position: relative;\n",
              "}\n",
              "\n",
              "#sk-container-id-2 div.sk-parallel-item {\n",
              "  display: flex;\n",
              "  flex-direction: column;\n",
              "}\n",
              "\n",
              "#sk-container-id-2 div.sk-parallel-item:first-child::after {\n",
              "  align-self: flex-end;\n",
              "  width: 50%;\n",
              "}\n",
              "\n",
              "#sk-container-id-2 div.sk-parallel-item:last-child::after {\n",
              "  align-self: flex-start;\n",
              "  width: 50%;\n",
              "}\n",
              "\n",
              "#sk-container-id-2 div.sk-parallel-item:only-child::after {\n",
              "  width: 0;\n",
              "}\n",
              "\n",
              "/* Serial-specific style estimator block */\n",
              "\n",
              "#sk-container-id-2 div.sk-serial {\n",
              "  display: flex;\n",
              "  flex-direction: column;\n",
              "  align-items: center;\n",
              "  background-color: var(--sklearn-color-background);\n",
              "  padding-right: 1em;\n",
              "  padding-left: 1em;\n",
              "}\n",
              "\n",
              "\n",
              "/* Toggleable style: style used for estimator/Pipeline/ColumnTransformer box that is\n",
              "clickable and can be expanded/collapsed.\n",
              "- Pipeline and ColumnTransformer use this feature and define the default style\n",
              "- Estimators will overwrite some part of the style using the `sk-estimator` class\n",
              "*/\n",
              "\n",
              "/* Pipeline and ColumnTransformer style (default) */\n",
              "\n",
              "#sk-container-id-2 div.sk-toggleable {\n",
              "  /* Default theme specific background. It is overwritten whether we have a\n",
              "  specific estimator or a Pipeline/ColumnTransformer */\n",
              "  background-color: var(--sklearn-color-background);\n",
              "}\n",
              "\n",
              "/* Toggleable label */\n",
              "#sk-container-id-2 label.sk-toggleable__label {\n",
              "  cursor: pointer;\n",
              "  display: flex;\n",
              "  width: 100%;\n",
              "  margin-bottom: 0;\n",
              "  padding: 0.5em;\n",
              "  box-sizing: border-box;\n",
              "  text-align: center;\n",
              "  align-items: start;\n",
              "  justify-content: space-between;\n",
              "  gap: 0.5em;\n",
              "}\n",
              "\n",
              "#sk-container-id-2 label.sk-toggleable__label .caption {\n",
              "  font-size: 0.6rem;\n",
              "  font-weight: lighter;\n",
              "  color: var(--sklearn-color-text-muted);\n",
              "}\n",
              "\n",
              "#sk-container-id-2 label.sk-toggleable__label-arrow:before {\n",
              "  /* Arrow on the left of the label */\n",
              "  content: \"▸\";\n",
              "  float: left;\n",
              "  margin-right: 0.25em;\n",
              "  color: var(--sklearn-color-icon);\n",
              "}\n",
              "\n",
              "#sk-container-id-2 label.sk-toggleable__label-arrow:hover:before {\n",
              "  color: var(--sklearn-color-text);\n",
              "}\n",
              "\n",
              "/* Toggleable content - dropdown */\n",
              "\n",
              "#sk-container-id-2 div.sk-toggleable__content {\n",
              "  max-height: 0;\n",
              "  max-width: 0;\n",
              "  overflow: hidden;\n",
              "  text-align: left;\n",
              "  /* unfitted */\n",
              "  background-color: var(--sklearn-color-unfitted-level-0);\n",
              "}\n",
              "\n",
              "#sk-container-id-2 div.sk-toggleable__content.fitted {\n",
              "  /* fitted */\n",
              "  background-color: var(--sklearn-color-fitted-level-0);\n",
              "}\n",
              "\n",
              "#sk-container-id-2 div.sk-toggleable__content pre {\n",
              "  margin: 0.2em;\n",
              "  border-radius: 0.25em;\n",
              "  color: var(--sklearn-color-text);\n",
              "  /* unfitted */\n",
              "  background-color: var(--sklearn-color-unfitted-level-0);\n",
              "}\n",
              "\n",
              "#sk-container-id-2 div.sk-toggleable__content.fitted pre {\n",
              "  /* unfitted */\n",
              "  background-color: var(--sklearn-color-fitted-level-0);\n",
              "}\n",
              "\n",
              "#sk-container-id-2 input.sk-toggleable__control:checked~div.sk-toggleable__content {\n",
              "  /* Expand drop-down */\n",
              "  max-height: 200px;\n",
              "  max-width: 100%;\n",
              "  overflow: auto;\n",
              "}\n",
              "\n",
              "#sk-container-id-2 input.sk-toggleable__control:checked~label.sk-toggleable__label-arrow:before {\n",
              "  content: \"▾\";\n",
              "}\n",
              "\n",
              "/* Pipeline/ColumnTransformer-specific style */\n",
              "\n",
              "#sk-container-id-2 div.sk-label input.sk-toggleable__control:checked~label.sk-toggleable__label {\n",
              "  color: var(--sklearn-color-text);\n",
              "  background-color: var(--sklearn-color-unfitted-level-2);\n",
              "}\n",
              "\n",
              "#sk-container-id-2 div.sk-label.fitted input.sk-toggleable__control:checked~label.sk-toggleable__label {\n",
              "  background-color: var(--sklearn-color-fitted-level-2);\n",
              "}\n",
              "\n",
              "/* Estimator-specific style */\n",
              "\n",
              "/* Colorize estimator box */\n",
              "#sk-container-id-2 div.sk-estimator input.sk-toggleable__control:checked~label.sk-toggleable__label {\n",
              "  /* unfitted */\n",
              "  background-color: var(--sklearn-color-unfitted-level-2);\n",
              "}\n",
              "\n",
              "#sk-container-id-2 div.sk-estimator.fitted input.sk-toggleable__control:checked~label.sk-toggleable__label {\n",
              "  /* fitted */\n",
              "  background-color: var(--sklearn-color-fitted-level-2);\n",
              "}\n",
              "\n",
              "#sk-container-id-2 div.sk-label label.sk-toggleable__label,\n",
              "#sk-container-id-2 div.sk-label label {\n",
              "  /* The background is the default theme color */\n",
              "  color: var(--sklearn-color-text-on-default-background);\n",
              "}\n",
              "\n",
              "/* On hover, darken the color of the background */\n",
              "#sk-container-id-2 div.sk-label:hover label.sk-toggleable__label {\n",
              "  color: var(--sklearn-color-text);\n",
              "  background-color: var(--sklearn-color-unfitted-level-2);\n",
              "}\n",
              "\n",
              "/* Label box, darken color on hover, fitted */\n",
              "#sk-container-id-2 div.sk-label.fitted:hover label.sk-toggleable__label.fitted {\n",
              "  color: var(--sklearn-color-text);\n",
              "  background-color: var(--sklearn-color-fitted-level-2);\n",
              "}\n",
              "\n",
              "/* Estimator label */\n",
              "\n",
              "#sk-container-id-2 div.sk-label label {\n",
              "  font-family: monospace;\n",
              "  font-weight: bold;\n",
              "  display: inline-block;\n",
              "  line-height: 1.2em;\n",
              "}\n",
              "\n",
              "#sk-container-id-2 div.sk-label-container {\n",
              "  text-align: center;\n",
              "}\n",
              "\n",
              "/* Estimator-specific */\n",
              "#sk-container-id-2 div.sk-estimator {\n",
              "  font-family: monospace;\n",
              "  border: 1px dotted var(--sklearn-color-border-box);\n",
              "  border-radius: 0.25em;\n",
              "  box-sizing: border-box;\n",
              "  margin-bottom: 0.5em;\n",
              "  /* unfitted */\n",
              "  background-color: var(--sklearn-color-unfitted-level-0);\n",
              "}\n",
              "\n",
              "#sk-container-id-2 div.sk-estimator.fitted {\n",
              "  /* fitted */\n",
              "  background-color: var(--sklearn-color-fitted-level-0);\n",
              "}\n",
              "\n",
              "/* on hover */\n",
              "#sk-container-id-2 div.sk-estimator:hover {\n",
              "  /* unfitted */\n",
              "  background-color: var(--sklearn-color-unfitted-level-2);\n",
              "}\n",
              "\n",
              "#sk-container-id-2 div.sk-estimator.fitted:hover {\n",
              "  /* fitted */\n",
              "  background-color: var(--sklearn-color-fitted-level-2);\n",
              "}\n",
              "\n",
              "/* Specification for estimator info (e.g. \"i\" and \"?\") */\n",
              "\n",
              "/* Common style for \"i\" and \"?\" */\n",
              "\n",
              ".sk-estimator-doc-link,\n",
              "a:link.sk-estimator-doc-link,\n",
              "a:visited.sk-estimator-doc-link {\n",
              "  float: right;\n",
              "  font-size: smaller;\n",
              "  line-height: 1em;\n",
              "  font-family: monospace;\n",
              "  background-color: var(--sklearn-color-background);\n",
              "  border-radius: 1em;\n",
              "  height: 1em;\n",
              "  width: 1em;\n",
              "  text-decoration: none !important;\n",
              "  margin-left: 0.5em;\n",
              "  text-align: center;\n",
              "  /* unfitted */\n",
              "  border: var(--sklearn-color-unfitted-level-1) 1pt solid;\n",
              "  color: var(--sklearn-color-unfitted-level-1);\n",
              "}\n",
              "\n",
              ".sk-estimator-doc-link.fitted,\n",
              "a:link.sk-estimator-doc-link.fitted,\n",
              "a:visited.sk-estimator-doc-link.fitted {\n",
              "  /* fitted */\n",
              "  border: var(--sklearn-color-fitted-level-1) 1pt solid;\n",
              "  color: var(--sklearn-color-fitted-level-1);\n",
              "}\n",
              "\n",
              "/* On hover */\n",
              "div.sk-estimator:hover .sk-estimator-doc-link:hover,\n",
              ".sk-estimator-doc-link:hover,\n",
              "div.sk-label-container:hover .sk-estimator-doc-link:hover,\n",
              ".sk-estimator-doc-link:hover {\n",
              "  /* unfitted */\n",
              "  background-color: var(--sklearn-color-unfitted-level-3);\n",
              "  color: var(--sklearn-color-background);\n",
              "  text-decoration: none;\n",
              "}\n",
              "\n",
              "div.sk-estimator.fitted:hover .sk-estimator-doc-link.fitted:hover,\n",
              ".sk-estimator-doc-link.fitted:hover,\n",
              "div.sk-label-container:hover .sk-estimator-doc-link.fitted:hover,\n",
              ".sk-estimator-doc-link.fitted:hover {\n",
              "  /* fitted */\n",
              "  background-color: var(--sklearn-color-fitted-level-3);\n",
              "  color: var(--sklearn-color-background);\n",
              "  text-decoration: none;\n",
              "}\n",
              "\n",
              "/* Span, style for the box shown on hovering the info icon */\n",
              ".sk-estimator-doc-link span {\n",
              "  display: none;\n",
              "  z-index: 9999;\n",
              "  position: relative;\n",
              "  font-weight: normal;\n",
              "  right: .2ex;\n",
              "  padding: .5ex;\n",
              "  margin: .5ex;\n",
              "  width: min-content;\n",
              "  min-width: 20ex;\n",
              "  max-width: 50ex;\n",
              "  color: var(--sklearn-color-text);\n",
              "  box-shadow: 2pt 2pt 4pt #999;\n",
              "  /* unfitted */\n",
              "  background: var(--sklearn-color-unfitted-level-0);\n",
              "  border: .5pt solid var(--sklearn-color-unfitted-level-3);\n",
              "}\n",
              "\n",
              ".sk-estimator-doc-link.fitted span {\n",
              "  /* fitted */\n",
              "  background: var(--sklearn-color-fitted-level-0);\n",
              "  border: var(--sklearn-color-fitted-level-3);\n",
              "}\n",
              "\n",
              ".sk-estimator-doc-link:hover span {\n",
              "  display: block;\n",
              "}\n",
              "\n",
              "/* \"?\"-specific style due to the `<a>` HTML tag */\n",
              "\n",
              "#sk-container-id-2 a.estimator_doc_link {\n",
              "  float: right;\n",
              "  font-size: 1rem;\n",
              "  line-height: 1em;\n",
              "  font-family: monospace;\n",
              "  background-color: var(--sklearn-color-background);\n",
              "  border-radius: 1rem;\n",
              "  height: 1rem;\n",
              "  width: 1rem;\n",
              "  text-decoration: none;\n",
              "  /* unfitted */\n",
              "  color: var(--sklearn-color-unfitted-level-1);\n",
              "  border: var(--sklearn-color-unfitted-level-1) 1pt solid;\n",
              "}\n",
              "\n",
              "#sk-container-id-2 a.estimator_doc_link.fitted {\n",
              "  /* fitted */\n",
              "  border: var(--sklearn-color-fitted-level-1) 1pt solid;\n",
              "  color: var(--sklearn-color-fitted-level-1);\n",
              "}\n",
              "\n",
              "/* On hover */\n",
              "#sk-container-id-2 a.estimator_doc_link:hover {\n",
              "  /* unfitted */\n",
              "  background-color: var(--sklearn-color-unfitted-level-3);\n",
              "  color: var(--sklearn-color-background);\n",
              "  text-decoration: none;\n",
              "}\n",
              "\n",
              "#sk-container-id-2 a.estimator_doc_link.fitted:hover {\n",
              "  /* fitted */\n",
              "  background-color: var(--sklearn-color-fitted-level-3);\n",
              "}\n",
              "</style><div id=\"sk-container-id-2\" class=\"sk-top-container\"><div class=\"sk-text-repr-fallback\"><pre>MLPClassifier(activation=&#x27;tanh&#x27;, hidden_layer_sizes=(20, 20))</pre><b>In a Jupyter environment, please rerun this cell to show the HTML representation or trust the notebook. <br />On GitHub, the HTML representation is unable to render, please try loading this page with nbviewer.org.</b></div><div class=\"sk-container\" hidden><div class=\"sk-item\"><div class=\"sk-estimator fitted sk-toggleable\"><input class=\"sk-toggleable__control sk-hidden--visually\" id=\"sk-estimator-id-2\" type=\"checkbox\" checked><label for=\"sk-estimator-id-2\" class=\"sk-toggleable__label fitted sk-toggleable__label-arrow\"><div><div>MLPClassifier</div></div><div><a class=\"sk-estimator-doc-link fitted\" rel=\"noreferrer\" target=\"_blank\" href=\"https://scikit-learn.org/1.6/modules/generated/sklearn.neural_network.MLPClassifier.html\">?<span>Documentation for MLPClassifier</span></a><span class=\"sk-estimator-doc-link fitted\">i<span>Fitted</span></span></div></label><div class=\"sk-toggleable__content fitted\"><pre>MLPClassifier(activation=&#x27;tanh&#x27;, hidden_layer_sizes=(20, 20))</pre></div> </div></div></div></div>"
            ]
          },
          "metadata": {},
          "execution_count": 13
        }
      ],
      "source": [
        "from sklearn.neural_network import MLPClassifier\n",
        "\n",
        "agent = MLPClassifier(\n",
        "    hidden_layer_sizes=(20, 20),\n",
        "    activation=\"tanh\",\n",
        ")\n",
        "\n",
        "# initialize agent to the dimension of state space and number of actions\n",
        "agent.partial_fit([env.reset()[0]] * n_actions, range(n_actions), range(n_actions))\n"
      ]
    },
    {
      "cell_type": "code",
      "execution_count": null,
      "metadata": {
        "id": "eyFS3oUmG9zL"
      },
      "outputs": [],
      "source": [
        "def generate_session(env, agent, t_max=1000):\n",
        "    \"\"\"\n",
        "    Play a single game using agent neural network.\n",
        "    Terminate when game finishes or after :t_max: steps\n",
        "    \"\"\"\n",
        "    states, actions = [], []\n",
        "    total_reward = 0\n",
        "\n",
        "    s, _ = env.reset()\n",
        "\n",
        "    for t in range(t_max):\n",
        "\n",
        "\n",
        "        # use agent to predict a vector of action probabilities for state :s:\n",
        "        probs=np.reshape(agent.predict_proba([s]),n_actions)\n",
        "        assert probs.shape == (env.action_space.n,), \"make sure probabilities are a vector (hint: np.reshape)\"\n",
        "\n",
        "\n",
        "        # use the probabilities you predicted to pick an action\n",
        "        # sample proportionally to the probabilities, don't just take the most likely action\n",
        "        a = np.random.choice(n_actions, p=probs)\n",
        "\n",
        "        new_s, r, terminated, truncated, _ = env.step(a)\n",
        "\n",
        "        # record sessions like you did before\n",
        "        states.append(s)\n",
        "        actions.append(a)\n",
        "        total_reward += r\n",
        "\n",
        "        s = new_s\n",
        "        if terminated or truncated:\n",
        "            break\n",
        "    return states, actions, total_reward\n"
      ]
    },
    {
      "cell_type": "code",
      "execution_count": null,
      "metadata": {
        "id": "4xgrTCgJG9zL",
        "colab": {
          "base_uri": "https://localhost:8080/"
        },
        "outputId": "5c8139f1-1f2f-4b9b-8bd8-832c7a5efff4"
      },
      "outputs": [
        {
          "output_type": "stream",
          "name": "stdout",
          "text": [
            "states: [[-2.1351688e-02 -1.5780719e-02  4.0244726e-03  4.2266998e-02]\n",
            " [-2.1667302e-02  1.7928329e-01  4.8698126e-03 -2.4914345e-01]\n",
            " [-1.8081637e-02  3.7433535e-01 -1.1305657e-04 -5.4028636e-01]\n",
            " [-1.0594930e-02  1.7921500e-01 -1.0918784e-02 -2.4763907e-01]\n",
            " [-7.0106294e-03 -1.5749326e-02 -1.5871566e-02  4.1579928e-02]]\n",
            "actions: [1, 1, 0, 0, 0]\n",
            "reward: 5.0\n"
          ]
        }
      ],
      "source": [
        "dummy_states, dummy_actions, dummy_reward = generate_session(env, agent, t_max=5)\n",
        "print(\"states:\", np.stack(dummy_states))\n",
        "print(\"actions:\", dummy_actions)\n",
        "print(\"reward:\", dummy_reward)\n"
      ]
    },
    {
      "cell_type": "markdown",
      "metadata": {
        "id": "p85lt16qG9zL"
      },
      "source": [
        "### CEM steps\n",
        "Deep CEM uses exactly the same strategy as the regular CEM, so you can copy your function code from previous notebook.\n",
        "\n",
        "The only difference is that now each observation is not a number but a `float32` vector."
      ]
    },
    {
      "cell_type": "code",
      "execution_count": null,
      "metadata": {
        "id": "4On-p7p4G9zL"
      },
      "outputs": [],
      "source": [
        "def select_elites(states_batch, actions_batch, rewards_batch, percentile=50):\n",
        "    \"\"\"\n",
        "    Select states and actions from games that have rewards >= percentile\n",
        "    :param states_batch: list of lists of states, states_batch[session_i][t]\n",
        "    :param actions_batch: list of lists of actions, actions_batch[session_i][t]\n",
        "    :param rewards_batch: list of rewards, rewards_batch[session_i]\n",
        "\n",
        "    :returns: elite_states,elite_actions, both 1D lists of states and respective actions from elite sessions\n",
        "\n",
        "    Please return elite states and actions in their original order\n",
        "    [i.e. sorted by session number and timestep within session]\n",
        "\n",
        "    If you are confused, see examples below. Please don't assume that states are integers\n",
        "    (they will become different later).\n",
        "    \"\"\"\n",
        "\n",
        "    #<YOUR CODE: copy-paste your implementation from the previous notebook>\n",
        "    reward_threshold = np.percentile(rewards_batch, percentile)\n",
        "\n",
        "    elite_states = []\n",
        "    elite_actions = []\n",
        "    for session_i, reward in enumerate(rewards_batch):\n",
        "        if reward >= reward_threshold:\n",
        "            elite_states.extend(states_batch[session_i])\n",
        "            elite_actions.extend(actions_batch[session_i])\n",
        "\n",
        "    return elite_states, elite_actions\n"
      ]
    },
    {
      "cell_type": "markdown",
      "metadata": {
        "id": "xc40V4DaG9zM"
      },
      "source": [
        "# Training loop\n",
        "Generate sessions, select N best and fit to those."
      ]
    },
    {
      "cell_type": "code",
      "execution_count": null,
      "metadata": {
        "id": "PPwVKwF7G9zM"
      },
      "outputs": [],
      "source": [
        "from IPython.display import clear_output\n",
        "\n",
        "\n",
        "def show_progress(rewards_batch, log, percentile, reward_range=[-990, +10]):\n",
        "    \"\"\"\n",
        "    A convenience function that displays training progress.\n",
        "    No cool math here, just charts.\n",
        "    \"\"\"\n",
        "\n",
        "    mean_reward = np.mean(rewards_batch)\n",
        "    threshold = np.percentile(rewards_batch, percentile)\n",
        "    log.append([mean_reward, threshold])\n",
        "\n",
        "    clear_output(True)\n",
        "    print(\"mean reward = %.3f, threshold=%.3f\" % (mean_reward, threshold))\n",
        "    plt.figure(figsize=[8, 4])\n",
        "    plt.subplot(1, 2, 1)\n",
        "    plt.plot(list(zip(*log))[0], label=\"Mean rewards\")\n",
        "    plt.plot(list(zip(*log))[1], label=\"Reward thresholds\")\n",
        "    plt.legend()\n",
        "    plt.grid()\n",
        "\n",
        "    plt.subplot(1, 2, 2)\n",
        "    plt.hist(rewards_batch, range=reward_range)\n",
        "    plt.vlines(\n",
        "        [np.percentile(rewards_batch, percentile)],\n",
        "        [0],\n",
        "        [100],\n",
        "        label=\"percentile\",\n",
        "        color=\"red\",\n",
        "    )\n",
        "    plt.legend()\n",
        "    plt.grid()\n",
        "\n",
        "    plt.show()\n"
      ]
    },
    {
      "cell_type": "code",
      "execution_count": null,
      "metadata": {
        "id": "euK7WRQiG9zM",
        "colab": {
          "base_uri": "https://localhost:8080/",
          "height": 742
        },
        "outputId": "82c8c034-9768-4c80-c445-846045bd1e57"
      },
      "outputs": [
        {
          "output_type": "stream",
          "name": "stdout",
          "text": [
            "mean reward = 967.700, threshold=1000.000\n"
          ]
        },
        {
          "output_type": "display_data",
          "data": {
            "text/plain": [
              "<Figure size 800x400 with 2 Axes>"
            ],
            "image/png": "[encoded data removed]"
          },
          "metadata": {}
        },
        {
          "output_type": "stream",
          "name": "stdout",
          "text": [
            "You Win! You may stop training now via KeyboardInterrupt.\n"
          ]
        },
        {
          "output_type": "error",
          "ename": "KeyboardInterrupt",
          "evalue": "",
          "traceback": [
            "\u001b[0;31m---------------------------------------------------------------------------\u001b[0m",
            "\u001b[0;31mKeyboardInterrupt\u001b[0m                         Traceback (most recent call last)",
            "\u001b[0;32m<ipython-input-18-a3e947247077>\u001b[0m in \u001b[0;36m<cell line: 0>\u001b[0;34m()\u001b[0m\n\u001b[1;32m      6\u001b[0m     \u001b[0;31m# generate new sessions\u001b[0m\u001b[0;34m\u001b[0m\u001b[0;34m\u001b[0m\u001b[0m\n\u001b[1;32m      7\u001b[0m \u001b[0;34m\u001b[0m\u001b[0m\n\u001b[0;32m----> 8\u001b[0;31m     \u001b[0msessions\u001b[0m \u001b[0;34m=\u001b[0m \u001b[0;34m[\u001b[0m\u001b[0mgenerate_session\u001b[0m\u001b[0;34m(\u001b[0m\u001b[0menv\u001b[0m\u001b[0;34m,\u001b[0m \u001b[0magent\u001b[0m\u001b[0;34m)\u001b[0m \u001b[0;32mfor\u001b[0m \u001b[0m_\u001b[0m \u001b[0;32min\u001b[0m \u001b[0mrange\u001b[0m\u001b[0;34m(\u001b[0m\u001b[0mn_sessions\u001b[0m\u001b[0;34m)\u001b[0m\u001b[0;34m]\u001b[0m\u001b[0;34m\u001b[0m\u001b[0;34m\u001b[0m\u001b[0m\n\u001b[0m\u001b[1;32m      9\u001b[0m     \u001b[0;31m#states_batch, actions_batch, rewards_batch = map(np.array, zip(*sessions))\u001b[0m\u001b[0;34m\u001b[0m\u001b[0;34m\u001b[0m\u001b[0m\n\u001b[1;32m     10\u001b[0m     \u001b[0mstates_batch\u001b[0m\u001b[0;34m,\u001b[0m \u001b[0mactions_batch\u001b[0m\u001b[0;34m,\u001b[0m \u001b[0mrewards_batch\u001b[0m \u001b[0;34m=\u001b[0m \u001b[0mzip\u001b[0m\u001b[0;34m(\u001b[0m\u001b[0;34m*\u001b[0m\u001b[0msessions\u001b[0m\u001b[0;34m)\u001b[0m\u001b[0;34m\u001b[0m\u001b[0;34m\u001b[0m\u001b[0m\n",
            "\u001b[0;32m<ipython-input-18-a3e947247077>\u001b[0m in \u001b[0;36m<listcomp>\u001b[0;34m(.0)\u001b[0m\n\u001b[1;32m      6\u001b[0m     \u001b[0;31m# generate new sessions\u001b[0m\u001b[0;34m\u001b[0m\u001b[0;34m\u001b[0m\u001b[0m\n\u001b[1;32m      7\u001b[0m \u001b[0;34m\u001b[0m\u001b[0m\n\u001b[0;32m----> 8\u001b[0;31m     \u001b[0msessions\u001b[0m \u001b[0;34m=\u001b[0m \u001b[0;34m[\u001b[0m\u001b[0mgenerate_session\u001b[0m\u001b[0;34m(\u001b[0m\u001b[0menv\u001b[0m\u001b[0;34m,\u001b[0m \u001b[0magent\u001b[0m\u001b[0;34m)\u001b[0m \u001b[0;32mfor\u001b[0m \u001b[0m_\u001b[0m \u001b[0;32min\u001b[0m \u001b[0mrange\u001b[0m\u001b[0;34m(\u001b[0m\u001b[0mn_sessions\u001b[0m\u001b[0;34m)\u001b[0m\u001b[0;34m]\u001b[0m\u001b[0;34m\u001b[0m\u001b[0;34m\u001b[0m\u001b[0m\n\u001b[0m\u001b[1;32m      9\u001b[0m     \u001b[0;31m#states_batch, actions_batch, rewards_batch = map(np.array, zip(*sessions))\u001b[0m\u001b[0;34m\u001b[0m\u001b[0;34m\u001b[0m\u001b[0m\n\u001b[1;32m     10\u001b[0m     \u001b[0mstates_batch\u001b[0m\u001b[0;34m,\u001b[0m \u001b[0mactions_batch\u001b[0m\u001b[0;34m,\u001b[0m \u001b[0mrewards_batch\u001b[0m \u001b[0;34m=\u001b[0m \u001b[0mzip\u001b[0m\u001b[0;34m(\u001b[0m\u001b[0;34m*\u001b[0m\u001b[0msessions\u001b[0m\u001b[0;34m)\u001b[0m\u001b[0;34m\u001b[0m\u001b[0;34m\u001b[0m\u001b[0m\n",
            "\u001b[0;32m<ipython-input-14-5bbc3374f11d>\u001b[0m in \u001b[0;36mgenerate_session\u001b[0;34m(env, agent, t_max)\u001b[0m\n\u001b[1;32m     22\u001b[0m         \u001b[0;31m# sample proportionally to the probabilities, don't just take the most likely action\u001b[0m\u001b[0;34m\u001b[0m\u001b[0;34m\u001b[0m\u001b[0m\n\u001b[1;32m     23\u001b[0m         \u001b[0;31m#a = <YOUR CODE>\u001b[0m\u001b[0;34m\u001b[0m\u001b[0;34m\u001b[0m\u001b[0m\n\u001b[0;32m---> 24\u001b[0;31m         \u001b[0ma\u001b[0m \u001b[0;34m=\u001b[0m \u001b[0mnp\u001b[0m\u001b[0;34m.\u001b[0m\u001b[0mrandom\u001b[0m\u001b[0;34m.\u001b[0m\u001b[0mchoice\u001b[0m\u001b[0;34m(\u001b[0m\u001b[0mn_actions\u001b[0m\u001b[0;34m,\u001b[0m \u001b[0mp\u001b[0m\u001b[0;34m=\u001b[0m\u001b[0mprobs\u001b[0m\u001b[0;34m)\u001b[0m\u001b[0;34m\u001b[0m\u001b[0;34m\u001b[0m\u001b[0m\n\u001b[0m\u001b[1;32m     25\u001b[0m         \u001b[0;31m# ^-- hint: try np.random.choice\u001b[0m\u001b[0;34m\u001b[0m\u001b[0;34m\u001b[0m\u001b[0m\n\u001b[1;32m     26\u001b[0m \u001b[0;34m\u001b[0m\u001b[0m\n",
            "\u001b[0;31mKeyboardInterrupt\u001b[0m: "
          ]
        }
      ],
      "source": [
        "n_sessions = 100\n",
        "percentile = 70\n",
        "log = []\n",
        "\n",
        "for i in range(100):\n",
        "    # generate new sessions\n",
        "    sessions = [generate_session(env, agent) for _ in range(n_sessions)]\n",
        "    #states_batch, actions_batch, rewards_batch = map(np.array, zip(*sessions))\n",
        "    states_batch, actions_batch, rewards_batch = zip(*sessions)\n",
        "\n",
        "    elite_states, elite_actions = select_elites(states_batch, actions_batch, rewards_batch, percentile)\n",
        "\n",
        "    #<YOUR CODE: partial_fit agent to predict elite_actions(y) from elite_states(X)>\n",
        "    agent.partial_fit(elite_states, elite_actions)\n",
        "    show_progress(\n",
        "        rewards_batch, log, percentile, reward_range=[0, np.max(rewards_batch)]\n",
        "    )\n",
        "\n",
        "    if np.mean(rewards_batch) > 190:\n",
        "        print(\"You Win! You may stop training now via KeyboardInterrupt.\")\n"
      ]
    },
    {
      "cell_type": "markdown",
      "metadata": {
        "id": "yeNWKjtsG9zM"
      },
      "source": [
        "# Results"
      ]
    },
    {
      "cell_type": "code",
      "execution_count": null,
      "metadata": {
        "id": "RJwsWl4kG9zM",
        "colab": {
          "base_uri": "https://localhost:8080/"
        },
        "outputId": "f47618df-a383-4a40-b681-6d523353ac37"
      },
      "outputs": [
        {
          "output_type": "stream",
          "name": "stderr",
          "text": [
            "/usr/local/lib/python3.11/dist-packages/gymnasium/envs/registration.py:519: DeprecationWarning: \u001b[33mWARN: The environment CartPole-v0 is out of date. You should consider upgrading to version `v1`.\u001b[0m\n",
            "  logger.deprecation(\n"
          ]
        }
      ],
      "source": [
        "# Record sessions\n",
        "\n",
        "from gymnasium.wrappers import RecordVideo\n",
        "\n",
        "with RecordVideo(\n",
        "    env=gym.make(\"CartPole-v0\", render_mode=\"rgb_array\"),\n",
        "    video_folder=\"./videos\",\n",
        "    episode_trigger=lambda episode_number: True,\n",
        ") as env_monitor:\n",
        "    sessions = [generate_session(env_monitor, agent) for _ in range(100)]\n"
      ]
    },
    {
      "cell_type": "code",
      "execution_count": null,
      "metadata": {
        "id": "kLPXdME7G9zN",
        "colab": {
          "base_uri": "https://localhost:8080/",
          "height": 502
        },
        "outputId": "5060eb68-9263-4b85-e281-ac23e268fecb"
      },
      "outputs": [
        {
          "output_type": "execute_result",
          "data": {
            "text/plain": [
              "<IPython.core.display.HTML object>"
            ],
            "text/html": [
              "\n",
              "<video width=\"640\" height=\"480\" controls>\n",
              "  <source src=\"data:video/mp4;base64,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\" type=\"video/mp4\">\n",
              "</video>\n"
            ]
          },
          "metadata": {},
          "execution_count": 20
        }
      ],
      "source": [
        "# Show video. This may not work in some setups. If it doesn't\n",
        "# work for you, you can download the videos and view them locally.\n",
        "\n",
        "from pathlib import Path\n",
        "from base64 import b64encode\n",
        "from IPython.display import HTML\n",
        "\n",
        "video_paths = sorted([s for s in Path(\"videos\").iterdir() if s.suffix == \".mp4\"])\n",
        "video_path = video_paths[-1]  # You can also try other indices\n",
        "\n",
        "if \"google.colab\" in sys.modules:\n",
        "    # https://stackoverflow.com/a/57378660/1214547\n",
        "    with video_path.open(\"rb\") as fp:\n",
        "        mp4 = fp.read()\n",
        "    data_url = \"data:video/mp4;base64,\" + b64encode(mp4).decode()\n",
        "else:\n",
        "    data_url = str(video_path)\n",
        "\n",
        "HTML(\n",
        "    \"\"\"\n",
        "<video width=\"640\" height=\"480\" controls>\n",
        "  <source src=\"{}\" type=\"video/mp4\">\n",
        "</video>\n",
        "\"\"\".format(\n",
        "        data_url\n",
        "    )\n",
        ")\n"
      ]
    },
    {
      "cell_type": "markdown",
      "metadata": {
        "id": "6d_3oOQ1G9zN"
      },
      "source": [
        "# Homework part I\n",
        "\n",
        "### Tabular crossentropy method\n",
        "\n",
        "You may have noticed that the taxi problem quickly converges from -100 to a near-optimal score and then descends back into -50/-100. This is in part because the environment has some innate randomness. Namely, the starting points of passenger/driver change from episode to episode.\n",
        "\n",
        "### Tasks\n",
        "- __1.1__ (2 pts) Find out how the algorithm performance changes if you use a different `percentile` and/or `n_sessions`. Provide here some figures so we can see how the hyperparameters influence the performance.\n",
        "- __1.2__ (1 pts) Tune the algorithm to end up with positive average score.\n",
        "\n",
        "It's okay to modify the existing code.\n"
      ]
    },
    {
      "cell_type": "markdown",
      "metadata": {
        "id": "L88LySiVG9zN"
      },
      "source": [
        "```<Describe what you did here>```"
      ]
    },
    {
      "cell_type": "markdown",
      "metadata": {
        "id": "7LpAJc4rG9zN"
      },
      "source": [
        "# Homework part II\n",
        "\n",
        "### Deep crossentropy method\n",
        "\n",
        "By this moment, you should have got enough score on [CartPole-v0](https://gymnasium.farama.org/environments/classic_control/cart_pole/) to consider it solved (see the link). It's time to try something harder.\n",
        "\n",
        "* if you have any trouble with CartPole-v0 and feel stuck, feel free to ask us or your peers for help.\n",
        "\n",
        "### Tasks\n",
        "\n",
        "* __2.1__ (3 pts) Pick one of environments: `MountainCar-v0` or `LunarLander-v2`.\n",
        "  * For MountainCar, get average reward of __at least -150__\n",
        "  * For LunarLander, get average reward of __at least +50__\n",
        "\n",
        "See the tips section below, it's kinda important.\n",
        "__Note:__ If your agent is below the target score, you'll still get some of the points depending on the result, so don't be afraid to submit it.\n",
        "  \n",
        "  \n",
        "* __2.2__ (up to 6 pts) Devise a way to speed up training against the default version\n",
        "  * Obvious improvement: use [`joblib`](https://joblib.readthedocs.io/en/latest/). However, note that you will probably need to spawn a new environment in each of the workers instead of passing it via pickling. (2 pts)\n",
        "  * Try re-using samples from 3-5 last iterations when computing threshold and training. (2 pts)\n",
        "  * Obtain __-100__ at `MountainCar-v0` or __+200__ at `LunarLander-v2` (2 pts). Feel free to experiment with hyperparameters, architectures, schedules etc.\n",
        "  \n",
        "__Please list what you did in Anytask submission form__. This reduces probability that somebody misses something.\n",
        "  \n",
        "  \n",
        "### Tips\n",
        "* Gymnasium pages: [MountainCar](https://gymnasium.farama.org/environments/classic_control/mountain_car/), [LunarLander](https://gymnasium.farama.org/environments/box2d/lunar_lander/)\n",
        "* Sessions for MountainCar may last for 10k+ ticks. Make sure ```t_max``` param is at least 10k.\n",
        " * Also it may be a good idea to cut rewards via \">\" and not \">=\". If 90% of your sessions get reward of -10k and 10% are better, than if you use percentile 20% as threshold, R >= threshold __fails to cut off bad sessions__ while R > threshold works alright.\n",
        "* _issue with gym_: Some versions of gym limit game time by 200 ticks. This will prevent cem training in most cases. Make sure your agent is able to play for the specified __t_max__, and if it isn't, try `env = gym.make(\"MountainCar-v0\").env` or otherwise get rid of TimeLimit wrapper.\n",
        "* If you use old _swig_ lib for LunarLander-v2, you may get an error. See this [issue](https://github.com/openai/gym/issues/100) for solution.\n",
        "* If it doesn't train, it's a good idea to plot reward distribution and record sessions: they may give you some clue. If they don't, call course staff :)\n",
        "* 20-neuron network is probably not enough, feel free to experiment.\n",
        "\n",
        "You may find the following snippet useful:"
      ]
    },
    {
      "cell_type": "code",
      "execution_count": null,
      "metadata": {
        "id": "qcjz-nm_G9zN"
      },
      "outputs": [],
      "source": [
        "def visualize_mountain_car(env, agent):\n",
        "    # Compute policy for all possible x and v (with discretization)\n",
        "    xs = np.linspace(env.min_position, env.max_position, 100)\n",
        "    vs = np.linspace(-env.max_speed, env.max_speed, 100)\n",
        "\n",
        "    grid = np.dstack(np.meshgrid(xs, vs[::-1])).transpose(1, 0, 2)\n",
        "    grid_flat = grid.reshape(len(xs) * len(vs), 2)\n",
        "    probs = (\n",
        "        agent.predict_proba(grid_flat).reshape(len(xs), len(vs), 3).transpose(1, 0, 2)\n",
        "    )\n",
        "\n",
        "    # # The above code is equivalent to the following:\n",
        "    # probs = np.empty((len(vs), len(xs), 3))\n",
        "    # for i, v in enumerate(vs[::-1]):\n",
        "    #     for j, x in enumerate(xs):\n",
        "    #         probs[i, j, :] = agent.predict_proba([[x, v]])[0]\n",
        "\n",
        "    # Draw policy\n",
        "    f, ax = plt.subplots(figsize=(7, 7))\n",
        "    ax.imshow(\n",
        "        probs,\n",
        "        extent=(env.min_position, env.max_position, -env.max_speed, env.max_speed),\n",
        "        aspect=\"auto\",\n",
        "    )\n",
        "    ax.set_title(\"Learned policy: red=left, green=nothing, blue=right\")\n",
        "    ax.set_xlabel(\"position (x)\")\n",
        "    ax.set_ylabel(\"velocity (v)\")\n",
        "\n",
        "    # Sample a trajectory and draw it\n",
        "    states, actions, _ = generate_session(env, agent)\n",
        "    states = np.array(states)\n",
        "    ax.plot(states[:, 0], states[:, 1], color=\"white\")\n",
        "\n",
        "    # Draw every 3rd action from the trajectory\n",
        "    for (x, v), a in zip(states[::3], actions[::3]):\n",
        "        if a == 0:\n",
        "            plt.arrow(x, v, -0.1, 0, color=\"white\", head_length=0.02)\n",
        "        elif a == 2:\n",
        "            plt.arrow(x, v, 0.1, 0, color=\"white\", head_length=0.02)\n",
        "\n",
        "\n",
        "with gym.make(\"MountainCar-v0\", render_mode=\"rgb_arrary\").env as env:\n",
        "    visualize_mountain_car(env, agent)\n"
      ]
    },
    {
      "cell_type": "markdown",
      "metadata": {
        "id": "Dzk41lDPG9zO"
      },
      "source": [
        "### Bonus tasks\n",
        "\n",
        "* __2.3 bonus__ (2 pts) Try to find a network architecture and training params that solve __both__ environments above (_Points depend on implementation. If you attempted this task, please mention it in Anytask submission._)\n",
        "\n",
        "* __2.4 bonus__ (4 pts) Solve continuous action space task with `MLPRegressor` or similar.\n",
        "  * Since your agent only predicts the \"expected\" action, you will have to add noise to ensure exploration.\n",
        "  * Choose one of [MountainCarContinuous-v0](https://gymnasium.farama.org/environments/classic_control/mountain_car_continuous/) (90+ pts to solve), [LunarLanderContinuous-v2](https://gymnasium.farama.org/environments/box2d/lunar_lander/) (`env = gym.make(\"LunarLander-v2\", continuous=True)`)(200+ pts to solve)\n",
        "  * 4 points for solving. Slightly less for getting some results below solution threshold. Note that discrete and continuous environments may have slightly different rules, aside from action spaces."
      ]
    }
  ],
  "metadata": {
    "colab": {
      "provenance": []
    },
    "kernelspec": {
      "display_name": "Python 3",
      "name": "python3"
    },
    "language_info": {
      "codemirror_mode": {
        "name": "ipython",
        "version": 3
      },
      "file_extension": ".py",
      "mimetype": "text/x-python",
      "name": "python",
      "nbconvert_exporter": "python",
      "pygments_lexer": "ipython3",
      "version": "3.8.5"
    }
  },
  "nbformat": 4,
  "nbformat_minor": 0
}