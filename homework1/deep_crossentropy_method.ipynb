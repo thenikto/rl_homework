{
  "cells": [
    {
      "cell_type": "markdown",
      "metadata": {
        "id": "I_i1q1TWG9zH"
      },
      "source": [
        "# Deep Crossentropy method\n",
        "\n",
        "In this section we'll extend your CEM implementation with neural networks! You will train a multi-layer neural network to solve simple continuous state space games. __Please make sure you're done with tabular crossentropy method from the previous notebook.__\n",
        "\n",
        "![img](https://watanimg.elwatannews.com/old_news_images/large/249765_Large_20140709045740_11.jpg)\n",
        "\n"
      ]
    },
    {
      "cell_type": "code",
      "execution_count": 1,
      "metadata": {
        "id": "t4CJ1sRyG9zJ",
        "colab": {
          "base_uri": "https://localhost:8080/"
        },
        "outputId": "d9bc0b8e-415d-4aa5-d2cd-523ce0f0f922"
      },
      "outputs": [
        {
          "output_type": "stream",
          "name": "stdout",
          "text": [
            "W: Skipping acquire of configured file 'main/source/Sources' as repository 'https://r2u.stat.illinois.edu/ubuntu jammy InRelease' does not seem to provide it (sources.list entry misspelt?)\n",
            "Starting virtual X frame buffer: Xvfb.\n"
          ]
        }
      ],
      "source": [
        "import sys, os\n",
        "if 'google.colab' in sys.modules and not os.path.exists('.setup_complete'):\n",
        "    !wget -q https://raw.githubusercontent.com/yandexdataschool/Practical_RL/master/setup_colab.sh -O- | bash\n",
        "    !touch .setup_complete\n",
        "\n",
        "# This code creates a virtual display to draw game images on.\n",
        "# It will have no effect if your machine has a monitor.\n",
        "if type(os.environ.get(\"DISPLAY\")) is not str or len(os.environ.get(\"DISPLAY\")) == 0:\n",
        "    !bash ../xvfb start\n",
        "    os.environ['DISPLAY'] = ':1'"
      ]
    },
    {
      "cell_type": "code",
      "execution_count": 2,
      "metadata": {
        "id": "C2xd5vPwPVCb",
        "colab": {
          "base_uri": "https://localhost:8080/"
        },
        "outputId": "5d593827-783d-4b39-8025-8257f7ddf71e"
      },
      "outputs": [
        {
          "output_type": "stream",
          "name": "stdout",
          "text": [
            "Requirement already satisfied: gymnasium[classic_control,toy_text] in /usr/local/lib/python3.11/dist-packages (1.1.1)\n",
            "Requirement already satisfied: numpy>=1.21.0 in /usr/local/lib/python3.11/dist-packages (from gymnasium[classic_control,toy_text]) (2.0.2)\n",
            "Requirement already satisfied: cloudpickle>=1.2.0 in /usr/local/lib/python3.11/dist-packages (from gymnasium[classic_control,toy_text]) (3.1.1)\n",
            "Requirement already satisfied: typing-extensions>=4.3.0 in /usr/local/lib/python3.11/dist-packages (from gymnasium[classic_control,toy_text]) (4.13.2)\n",
            "Requirement already satisfied: farama-notifications>=0.0.1 in /usr/local/lib/python3.11/dist-packages (from gymnasium[classic_control,toy_text]) (0.0.4)\n",
            "Requirement already satisfied: pygame>=2.1.3 in /usr/local/lib/python3.11/dist-packages (from gymnasium[classic_control,toy_text]) (2.6.1)\n"
          ]
        }
      ],
      "source": [
        "# Install gymnasium if you didn't\n",
        "!pip install \"gymnasium[toy_text,classic_control]\""
      ]
    },
    {
      "cell_type": "code",
      "execution_count": 3,
      "metadata": {
        "id": "_2zbc7ahG9zK",
        "colab": {
          "base_uri": "https://localhost:8080/",
          "height": 465
        },
        "outputId": "c176fe3c-d637-413e-b2a3-049f81fc298e"
      },
      "outputs": [
        {
          "output_type": "stream",
          "name": "stderr",
          "text": [
            "/usr/local/lib/python3.11/dist-packages/gymnasium/envs/registration.py:519: DeprecationWarning: \u001b[33mWARN: The environment CartPole-v0 is out of date. You should consider upgrading to version `v1`.\u001b[0m\n",
            "  logger.deprecation(\n"
          ]
        },
        {
          "output_type": "stream",
          "name": "stdout",
          "text": [
            "state vector dim = 4\n",
            "n_actions = 2\n"
          ]
        },
        {
          "output_type": "display_data",
          "data": {
            "text/plain": [
              "<Figure size 640x480 with 1 Axes>"
            ],
            "image/png": "[encoded data removed]"
          },
          "metadata": {}
        }
      ],
      "source": [
        "import gymnasium as gym\n",
        "import numpy as np\n",
        "import matplotlib.pyplot as plt\n",
        "%matplotlib inline\n",
        "\n",
        "# if you see \"<classname> has no attribute .env\", remove .env or update gym\n",
        "env = gym.make(\"CartPole-v0\", render_mode=\"rgb_array\").env\n",
        "\n",
        "env.reset()\n",
        "n_actions = env.action_space.n\n",
        "state_dim = env.observation_space.shape[0]\n",
        "\n",
        "plt.imshow(env.render())\n",
        "print(\"state vector dim =\", state_dim)\n",
        "print(\"n_actions =\", n_actions)\n",
        "\n",
        "env.close()"
      ]
    },
    {
      "cell_type": "markdown",
      "metadata": {
        "id": "Z72_alhdG9zK"
      },
      "source": [
        "# Neural Network Policy\n",
        "\n",
        "For this assignment we'll utilize the simplified neural network implementation from __[Scikit-learn](https://scikit-learn.org/stable/modules/generated/sklearn.neural_network.MLPClassifier.html)__. Here's what you'll need:\n",
        "\n",
        "* `agent.partial_fit(states, actions)` - make a single training pass over the data. Maximize the probability of :actions: from :states:\n",
        "* `agent.predict_proba(states)` - predict probabilities of all actions, a matrix of shape __[len(states), n_actions]__\n"
      ]
    },
    {
      "cell_type": "code",
      "execution_count": 4,
      "metadata": {
        "id": "wLItY4unG9zL",
        "colab": {
          "base_uri": "https://localhost:8080/",
          "height": 80
        },
        "outputId": "6cb3090a-1834-44e0-98bb-13e2f2719a7b"
      },
      "outputs": [
        {
          "output_type": "execute_result",
          "data": {
            "text/plain": [
              "MLPClassifier(activation='tanh', hidden_layer_sizes=(20, 20))"
            ],
            "text/html": [
              "<style>#sk-container-id-1 {\n",
              "  /* Definition of color scheme common for light and dark mode */\n",
              "  --sklearn-color-text: #000;\n",
              "  --sklearn-color-text-muted: #666;\n",
              "  --sklearn-color-line: gray;\n",
              "  /* Definition of color scheme for unfitted estimators */\n",
              "  --sklearn-color-unfitted-level-0: #fff5e6;\n",
              "  --sklearn-color-unfitted-level-1: #f6e4d2;\n",
              "  --sklearn-color-unfitted-level-2: #ffe0b3;\n",
              "  --sklearn-color-unfitted-level-3: chocolate;\n",
              "  /* Definition of color scheme for fitted estimators */\n",
              "  --sklearn-color-fitted-level-0: #f0f8ff;\n",
              "  --sklearn-color-fitted-level-1: #d4ebff;\n",
              "  --sklearn-color-fitted-level-2: #b3dbfd;\n",
              "  --sklearn-color-fitted-level-3: cornflowerblue;\n",
              "\n",
              "  /* Specific color for light theme */\n",
              "  --sklearn-color-text-on-default-background: var(--sg-text-color, var(--theme-code-foreground, var(--jp-content-font-color1, black)));\n",
              "  --sklearn-color-background: var(--sg-background-color, var(--theme-background, var(--jp-layout-color0, white)));\n",
              "  --sklearn-color-border-box: var(--sg-text-color, var(--theme-code-foreground, var(--jp-content-font-color1, black)));\n",
              "  --sklearn-color-icon: #696969;\n",
              "\n",
              "  @media (prefers-color-scheme: dark) {\n",
              "    /* Redefinition of color scheme for dark theme */\n",
              "    --sklearn-color-text-on-default-background: var(--sg-text-color, var(--theme-code-foreground, var(--jp-content-font-color1, white)));\n",
              "    --sklearn-color-background: var(--sg-background-color, var(--theme-background, var(--jp-layout-color0, #111)));\n",
              "    --sklearn-color-border-box: var(--sg-text-color, var(--theme-code-foreground, var(--jp-content-font-color1, white)));\n",
              "    --sklearn-color-icon: #878787;\n",
              "  }\n",
              "}\n",
              "\n",
              "#sk-container-id-1 {\n",
              "  color: var(--sklearn-color-text);\n",
              "}\n",
              "\n",
              "#sk-container-id-1 pre {\n",
              "  padding: 0;\n",
              "}\n",
              "\n",
              "#sk-container-id-1 input.sk-hidden--visually {\n",
              "  border: 0;\n",
              "  clip: rect(1px 1px 1px 1px);\n",
              "  clip: rect(1px, 1px, 1px, 1px);\n",
              "  height: 1px;\n",
              "  margin: -1px;\n",
              "  overflow: hidden;\n",
              "  padding: 0;\n",
              "  position: absolute;\n",
              "  width: 1px;\n",
              "}\n",
              "\n",
              "#sk-container-id-1 div.sk-dashed-wrapped {\n",
              "  border: 1px dashed var(--sklearn-color-line);\n",
              "  margin: 0 0.4em 0.5em 0.4em;\n",
              "  box-sizing: border-box;\n",
              "  padding-bottom: 0.4em;\n",
              "  background-color: var(--sklearn-color-background);\n",
              "}\n",
              "\n",
              "#sk-container-id-1 div.sk-container {\n",
              "  /* jupyter's `normalize.less` sets `[hidden] { display: none; }`\n",
              "     but bootstrap.min.css set `[hidden] { display: none !important; }`\n",
              "     so we also need the `!important` here to be able to override the\n",
              "     default hidden behavior on the sphinx rendered scikit-learn.org.\n",
              "     See: https://github.com/scikit-learn/scikit-learn/issues/21755 */\n",
              "  display: inline-block !important;\n",
              "  position: relative;\n",
              "}\n",
              "\n",
              "#sk-container-id-1 div.sk-text-repr-fallback {\n",
              "  display: none;\n",
              "}\n",
              "\n",
              "div.sk-parallel-item,\n",
              "div.sk-serial,\n",
              "div.sk-item {\n",
              "  /* draw centered vertical line to link estimators */\n",
              "  background-image: linear-gradient(var(--sklearn-color-text-on-default-background), var(--sklearn-color-text-on-default-background));\n",
              "  background-size: 2px 100%;\n",
              "  background-repeat: no-repeat;\n",
              "  background-position: center center;\n",
              "}\n",
              "\n",
              "/* Parallel-specific style estimator block */\n",
              "\n",
              "#sk-container-id-1 div.sk-parallel-item::after {\n",
              "  content: \"\";\n",
              "  width: 100%;\n",
              "  border-bottom: 2px solid var(--sklearn-color-text-on-default-background);\n",
              "  flex-grow: 1;\n",
              "}\n",
              "\n",
              "#sk-container-id-1 div.sk-parallel {\n",
              "  display: flex;\n",
              "  align-items: stretch;\n",
              "  justify-content: center;\n",
              "  background-color: var(--sklearn-color-background);\n",
              "  position: relative;\n",
              "}\n",
              "\n",
              "#sk-container-id-1 div.sk-parallel-item {\n",
              "  display: flex;\n",
              "  flex-direction: column;\n",
              "}\n",
              "\n",
              "#sk-container-id-1 div.sk-parallel-item:first-child::after {\n",
              "  align-self: flex-end;\n",
              "  width: 50%;\n",
              "}\n",
              "\n",
              "#sk-container-id-1 div.sk-parallel-item:last-child::after {\n",
              "  align-self: flex-start;\n",
              "  width: 50%;\n",
              "}\n",
              "\n",
              "#sk-container-id-1 div.sk-parallel-item:only-child::after {\n",
              "  width: 0;\n",
              "}\n",
              "\n",
              "/* Serial-specific style estimator block */\n",
              "\n",
              "#sk-container-id-1 div.sk-serial {\n",
              "  display: flex;\n",
              "  flex-direction: column;\n",
              "  align-items: center;\n",
              "  background-color: var(--sklearn-color-background);\n",
              "  padding-right: 1em;\n",
              "  padding-left: 1em;\n",
              "}\n",
              "\n",
              "\n",
              "/* Toggleable style: style used for estimator/Pipeline/ColumnTransformer box that is\n",
              "clickable and can be expanded/collapsed.\n",
              "- Pipeline and ColumnTransformer use this feature and define the default style\n",
              "- Estimators will overwrite some part of the style using the `sk-estimator` class\n",
              "*/\n",
              "\n",
              "/* Pipeline and ColumnTransformer style (default) */\n",
              "\n",
              "#sk-container-id-1 div.sk-toggleable {\n",
              "  /* Default theme specific background. It is overwritten whether we have a\n",
              "  specific estimator or a Pipeline/ColumnTransformer */\n",
              "  background-color: var(--sklearn-color-background);\n",
              "}\n",
              "\n",
              "/* Toggleable label */\n",
              "#sk-container-id-1 label.sk-toggleable__label {\n",
              "  cursor: pointer;\n",
              "  display: flex;\n",
              "  width: 100%;\n",
              "  margin-bottom: 0;\n",
              "  padding: 0.5em;\n",
              "  box-sizing: border-box;\n",
              "  text-align: center;\n",
              "  align-items: start;\n",
              "  justify-content: space-between;\n",
              "  gap: 0.5em;\n",
              "}\n",
              "\n",
              "#sk-container-id-1 label.sk-toggleable__label .caption {\n",
              "  font-size: 0.6rem;\n",
              "  font-weight: lighter;\n",
              "  color: var(--sklearn-color-text-muted);\n",
              "}\n",
              "\n",
              "#sk-container-id-1 label.sk-toggleable__label-arrow:before {\n",
              "  /* Arrow on the left of the label */\n",
              "  content: \"▸\";\n",
              "  float: left;\n",
              "  margin-right: 0.25em;\n",
              "  color: var(--sklearn-color-icon);\n",
              "}\n",
              "\n",
              "#sk-container-id-1 label.sk-toggleable__label-arrow:hover:before {\n",
              "  color: var(--sklearn-color-text);\n",
              "}\n",
              "\n",
              "/* Toggleable content - dropdown */\n",
              "\n",
              "#sk-container-id-1 div.sk-toggleable__content {\n",
              "  max-height: 0;\n",
              "  max-width: 0;\n",
              "  overflow: hidden;\n",
              "  text-align: left;\n",
              "  /* unfitted */\n",
              "  background-color: var(--sklearn-color-unfitted-level-0);\n",
              "}\n",
              "\n",
              "#sk-container-id-1 div.sk-toggleable__content.fitted {\n",
              "  /* fitted */\n",
              "  background-color: var(--sklearn-color-fitted-level-0);\n",
              "}\n",
              "\n",
              "#sk-container-id-1 div.sk-toggleable__content pre {\n",
              "  margin: 0.2em;\n",
              "  border-radius: 0.25em;\n",
              "  color: var(--sklearn-color-text);\n",
              "  /* unfitted */\n",
              "  background-color: var(--sklearn-color-unfitted-level-0);\n",
              "}\n",
              "\n",
              "#sk-container-id-1 div.sk-toggleable__content.fitted pre {\n",
              "  /* unfitted */\n",
              "  background-color: var(--sklearn-color-fitted-level-0);\n",
              "}\n",
              "\n",
              "#sk-container-id-1 input.sk-toggleable__control:checked~div.sk-toggleable__content {\n",
              "  /* Expand drop-down */\n",
              "  max-height: 200px;\n",
              "  max-width: 100%;\n",
              "  overflow: auto;\n",
              "}\n",
              "\n",
              "#sk-container-id-1 input.sk-toggleable__control:checked~label.sk-toggleable__label-arrow:before {\n",
              "  content: \"▾\";\n",
              "}\n",
              "\n",
              "/* Pipeline/ColumnTransformer-specific style */\n",
              "\n",
              "#sk-container-id-1 div.sk-label input.sk-toggleable__control:checked~label.sk-toggleable__label {\n",
              "  color: var(--sklearn-color-text);\n",
              "  background-color: var(--sklearn-color-unfitted-level-2);\n",
              "}\n",
              "\n",
              "#sk-container-id-1 div.sk-label.fitted input.sk-toggleable__control:checked~label.sk-toggleable__label {\n",
              "  background-color: var(--sklearn-color-fitted-level-2);\n",
              "}\n",
              "\n",
              "/* Estimator-specific style */\n",
              "\n",
              "/* Colorize estimator box */\n",
              "#sk-container-id-1 div.sk-estimator input.sk-toggleable__control:checked~label.sk-toggleable__label {\n",
              "  /* unfitted */\n",
              "  background-color: var(--sklearn-color-unfitted-level-2);\n",
              "}\n",
              "\n",
              "#sk-container-id-1 div.sk-estimator.fitted input.sk-toggleable__control:checked~label.sk-toggleable__label {\n",
              "  /* fitted */\n",
              "  background-color: var(--sklearn-color-fitted-level-2);\n",
              "}\n",
              "\n",
              "#sk-container-id-1 div.sk-label label.sk-toggleable__label,\n",
              "#sk-container-id-1 div.sk-label label {\n",
              "  /* The background is the default theme color */\n",
              "  color: var(--sklearn-color-text-on-default-background);\n",
              "}\n",
              "\n",
              "/* On hover, darken the color of the background */\n",
              "#sk-container-id-1 div.sk-label:hover label.sk-toggleable__label {\n",
              "  color: var(--sklearn-color-text);\n",
              "  background-color: var(--sklearn-color-unfitted-level-2);\n",
              "}\n",
              "\n",
              "/* Label box, darken color on hover, fitted */\n",
              "#sk-container-id-1 div.sk-label.fitted:hover label.sk-toggleable__label.fitted {\n",
              "  color: var(--sklearn-color-text);\n",
              "  background-color: var(--sklearn-color-fitted-level-2);\n",
              "}\n",
              "\n",
              "/* Estimator label */\n",
              "\n",
              "#sk-container-id-1 div.sk-label label {\n",
              "  font-family: monospace;\n",
              "  font-weight: bold;\n",
              "  display: inline-block;\n",
              "  line-height: 1.2em;\n",
              "}\n",
              "\n",
              "#sk-container-id-1 div.sk-label-container {\n",
              "  text-align: center;\n",
              "}\n",
              "\n",
              "/* Estimator-specific */\n",
              "#sk-container-id-1 div.sk-estimator {\n",
              "  font-family: monospace;\n",
              "  border: 1px dotted var(--sklearn-color-border-box);\n",
              "  border-radius: 0.25em;\n",
              "  box-sizing: border-box;\n",
              "  margin-bottom: 0.5em;\n",
              "  /* unfitted */\n",
              "  background-color: var(--sklearn-color-unfitted-level-0);\n",
              "}\n",
              "\n",
              "#sk-container-id-1 div.sk-estimator.fitted {\n",
              "  /* fitted */\n",
              "  background-color: var(--sklearn-color-fitted-level-0);\n",
              "}\n",
              "\n",
              "/* on hover */\n",
              "#sk-container-id-1 div.sk-estimator:hover {\n",
              "  /* unfitted */\n",
              "  background-color: var(--sklearn-color-unfitted-level-2);\n",
              "}\n",
              "\n",
              "#sk-container-id-1 div.sk-estimator.fitted:hover {\n",
              "  /* fitted */\n",
              "  background-color: var(--sklearn-color-fitted-level-2);\n",
              "}\n",
              "\n",
              "/* Specification for estimator info (e.g. \"i\" and \"?\") */\n",
              "\n",
              "/* Common style for \"i\" and \"?\" */\n",
              "\n",
              ".sk-estimator-doc-link,\n",
              "a:link.sk-estimator-doc-link,\n",
              "a:visited.sk-estimator-doc-link {\n",
              "  float: right;\n",
              "  font-size: smaller;\n",
              "  line-height: 1em;\n",
              "  font-family: monospace;\n",
              "  background-color: var(--sklearn-color-background);\n",
              "  border-radius: 1em;\n",
              "  height: 1em;\n",
              "  width: 1em;\n",
              "  text-decoration: none !important;\n",
              "  margin-left: 0.5em;\n",
              "  text-align: center;\n",
              "  /* unfitted */\n",
              "  border: var(--sklearn-color-unfitted-level-1) 1pt solid;\n",
              "  color: var(--sklearn-color-unfitted-level-1);\n",
              "}\n",
              "\n",
              ".sk-estimator-doc-link.fitted,\n",
              "a:link.sk-estimator-doc-link.fitted,\n",
              "a:visited.sk-estimator-doc-link.fitted {\n",
              "  /* fitted */\n",
              "  border: var(--sklearn-color-fitted-level-1) 1pt solid;\n",
              "  color: var(--sklearn-color-fitted-level-1);\n",
              "}\n",
              "\n",
              "/* On hover */\n",
              "div.sk-estimator:hover .sk-estimator-doc-link:hover,\n",
              ".sk-estimator-doc-link:hover,\n",
              "div.sk-label-container:hover .sk-estimator-doc-link:hover,\n",
              ".sk-estimator-doc-link:hover {\n",
              "  /* unfitted */\n",
              "  background-color: var(--sklearn-color-unfitted-level-3);\n",
              "  color: var(--sklearn-color-background);\n",
              "  text-decoration: none;\n",
              "}\n",
              "\n",
              "div.sk-estimator.fitted:hover .sk-estimator-doc-link.fitted:hover,\n",
              ".sk-estimator-doc-link.fitted:hover,\n",
              "div.sk-label-container:hover .sk-estimator-doc-link.fitted:hover,\n",
              ".sk-estimator-doc-link.fitted:hover {\n",
              "  /* fitted */\n",
              "  background-color: var(--sklearn-color-fitted-level-3);\n",
              "  color: var(--sklearn-color-background);\n",
              "  text-decoration: none;\n",
              "}\n",
              "\n",
              "/* Span, style for the box shown on hovering the info icon */\n",
              ".sk-estimator-doc-link span {\n",
              "  display: none;\n",
              "  z-index: 9999;\n",
              "  position: relative;\n",
              "  font-weight: normal;\n",
              "  right: .2ex;\n",
              "  padding: .5ex;\n",
              "  margin: .5ex;\n",
              "  width: min-content;\n",
              "  min-width: 20ex;\n",
              "  max-width: 50ex;\n",
              "  color: var(--sklearn-color-text);\n",
              "  box-shadow: 2pt 2pt 4pt #999;\n",
              "  /* unfitted */\n",
              "  background: var(--sklearn-color-unfitted-level-0);\n",
              "  border: .5pt solid var(--sklearn-color-unfitted-level-3);\n",
              "}\n",
              "\n",
              ".sk-estimator-doc-link.fitted span {\n",
              "  /* fitted */\n",
              "  background: var(--sklearn-color-fitted-level-0);\n",
              "  border: var(--sklearn-color-fitted-level-3);\n",
              "}\n",
              "\n",
              ".sk-estimator-doc-link:hover span {\n",
              "  display: block;\n",
              "}\n",
              "\n",
              "/* \"?\"-specific style due to the `<a>` HTML tag */\n",
              "\n",
              "#sk-container-id-1 a.estimator_doc_link {\n",
              "  float: right;\n",
              "  font-size: 1rem;\n",
              "  line-height: 1em;\n",
              "  font-family: monospace;\n",
              "  background-color: var(--sklearn-color-background);\n",
              "  border-radius: 1rem;\n",
              "  height: 1rem;\n",
              "  width: 1rem;\n",
              "  text-decoration: none;\n",
              "  /* unfitted */\n",
              "  color: var(--sklearn-color-unfitted-level-1);\n",
              "  border: var(--sklearn-color-unfitted-level-1) 1pt solid;\n",
              "}\n",
              "\n",
              "#sk-container-id-1 a.estimator_doc_link.fitted {\n",
              "  /* fitted */\n",
              "  border: var(--sklearn-color-fitted-level-1) 1pt solid;\n",
              "  color: var(--sklearn-color-fitted-level-1);\n",
              "}\n",
              "\n",
              "/* On hover */\n",
              "#sk-container-id-1 a.estimator_doc_link:hover {\n",
              "  /* unfitted */\n",
              "  background-color: var(--sklearn-color-unfitted-level-3);\n",
              "  color: var(--sklearn-color-background);\n",
              "  text-decoration: none;\n",
              "}\n",
              "\n",
              "#sk-container-id-1 a.estimator_doc_link.fitted:hover {\n",
              "  /* fitted */\n",
              "  background-color: var(--sklearn-color-fitted-level-3);\n",
              "}\n",
              "</style><div id=\"sk-container-id-1\" class=\"sk-top-container\"><div class=\"sk-text-repr-fallback\"><pre>MLPClassifier(activation=&#x27;tanh&#x27;, hidden_layer_sizes=(20, 20))</pre><b>In a Jupyter environment, please rerun this cell to show the HTML representation or trust the notebook. <br />On GitHub, the HTML representation is unable to render, please try loading this page with nbviewer.org.</b></div><div class=\"sk-container\" hidden><div class=\"sk-item\"><div class=\"sk-estimator fitted sk-toggleable\"><input class=\"sk-toggleable__control sk-hidden--visually\" id=\"sk-estimator-id-1\" type=\"checkbox\" checked><label for=\"sk-estimator-id-1\" class=\"sk-toggleable__label fitted sk-toggleable__label-arrow\"><div><div>MLPClassifier</div></div><div><a class=\"sk-estimator-doc-link fitted\" rel=\"noreferrer\" target=\"_blank\" href=\"https://scikit-learn.org/1.6/modules/generated/sklearn.neural_network.MLPClassifier.html\">?<span>Documentation for MLPClassifier</span></a><span class=\"sk-estimator-doc-link fitted\">i<span>Fitted</span></span></div></label><div class=\"sk-toggleable__content fitted\"><pre>MLPClassifier(activation=&#x27;tanh&#x27;, hidden_layer_sizes=(20, 20))</pre></div> </div></div></div></div>"
            ]
          },
          "metadata": {},
          "execution_count": 4
        }
      ],
      "source": [
        "from sklearn.neural_network import MLPClassifier\n",
        "\n",
        "agent = MLPClassifier(\n",
        "    hidden_layer_sizes=(20, 20),\n",
        "    activation=\"tanh\",\n",
        ")\n",
        "\n",
        "# initialize agent to the dimension of state space and number of actions\n",
        "agent.partial_fit([env.reset()[0]] * n_actions, range(n_actions), range(n_actions))\n"
      ]
    },
    {
      "cell_type": "code",
      "execution_count": 5,
      "metadata": {
        "id": "eyFS3oUmG9zL"
      },
      "outputs": [],
      "source": [
        "def generate_session(env, agent, t_max=1000):\n",
        "    \"\"\"\n",
        "    Play a single game using agent neural network.\n",
        "    Terminate when game finishes or after :t_max: steps\n",
        "    \"\"\"\n",
        "    states, actions = [], []\n",
        "    total_reward = 0\n",
        "\n",
        "    s, _ = env.reset()\n",
        "\n",
        "    for t in range(t_max):\n",
        "\n",
        "\n",
        "        # use agent to predict a vector of action probabilities for state :s:\n",
        "        probs=np.reshape(agent.predict_proba([s]),n_actions)\n",
        "        assert probs.shape == (env.action_space.n,), \"make sure probabilities are a vector (hint: np.reshape)\"\n",
        "\n",
        "\n",
        "        # use the probabilities you predicted to pick an action\n",
        "        # sample proportionally to the probabilities, don't just take the most likely action\n",
        "        a = np.random.choice(n_actions, p=probs)\n",
        "\n",
        "        new_s, r, terminated, truncated, _ = env.step(a)\n",
        "\n",
        "        # record sessions like you did before\n",
        "        states.append(s)\n",
        "        actions.append(a)\n",
        "        total_reward += r\n",
        "\n",
        "        s = new_s\n",
        "        if terminated or truncated:\n",
        "            break\n",
        "    return states, actions, total_reward\n"
      ]
    },
    {
      "cell_type": "code",
      "execution_count": 6,
      "metadata": {
        "id": "4xgrTCgJG9zL",
        "colab": {
          "base_uri": "https://localhost:8080/"
        },
        "outputId": "9015b1e0-93e7-4c1a-828a-aebf2cb120fc"
      },
      "outputs": [
        {
          "output_type": "stream",
          "name": "stdout",
          "text": [
            "states: [[-0.02361337  0.02524744  0.02782959 -0.02336431]\n",
            " [-0.02310843  0.21995947  0.0273623  -0.3071384 ]\n",
            " [-0.01870924  0.41468105  0.02121953 -0.59106797]\n",
            " [-0.01041562  0.6094996   0.00939817 -0.87699187]\n",
            " [ 0.00177438  0.41425118 -0.00814166 -0.58136916]]\n",
            "actions: [1, 1, 1, 0, 0]\n",
            "reward: 5.0\n"
          ]
        }
      ],
      "source": [
        "dummy_states, dummy_actions, dummy_reward = generate_session(env, agent, t_max=5)\n",
        "print(\"states:\", np.stack(dummy_states))\n",
        "print(\"actions:\", dummy_actions)\n",
        "print(\"reward:\", dummy_reward)\n"
      ]
    },
    {
      "cell_type": "markdown",
      "metadata": {
        "id": "p85lt16qG9zL"
      },
      "source": [
        "### CEM steps\n",
        "Deep CEM uses exactly the same strategy as the regular CEM, so you can copy your function code from previous notebook.\n",
        "\n",
        "The only difference is that now each observation is not a number but a `float32` vector."
      ]
    },
    {
      "cell_type": "code",
      "execution_count": 7,
      "metadata": {
        "id": "4On-p7p4G9zL"
      },
      "outputs": [],
      "source": [
        "def select_elites(states_batch, actions_batch, rewards_batch, percentile=50):\n",
        "    \"\"\"\n",
        "    Select states and actions from games that have rewards >= percentile\n",
        "    :param states_batch: list of lists of states, states_batch[session_i][t]\n",
        "    :param actions_batch: list of lists of actions, actions_batch[session_i][t]\n",
        "    :param rewards_batch: list of rewards, rewards_batch[session_i]\n",
        "\n",
        "    :returns: elite_states,elite_actions, both 1D lists of states and respective actions from elite sessions\n",
        "\n",
        "    Please return elite states and actions in their original order\n",
        "    [i.e. sorted by session number and timestep within session]\n",
        "\n",
        "    If you are confused, see examples below. Please don't assume that states are integers\n",
        "    (they will become different later).\n",
        "    \"\"\"\n",
        "\n",
        "    #<YOUR CODE: copy-paste your implementation from the previous notebook>\n",
        "    reward_threshold = np.percentile(rewards_batch, percentile)\n",
        "\n",
        "    elite_states = []\n",
        "    elite_actions = []\n",
        "\n",
        "    for states, actions, reward in zip(states_batch, actions_batch, rewards_batch):\n",
        "        if reward >= reward_threshold:\n",
        "            elite_states.extend(states)\n",
        "            elite_actions.extend(actions)\n",
        "\n",
        "\n",
        "    return elite_states, elite_actions\n"
      ]
    },
    {
      "cell_type": "markdown",
      "metadata": {
        "id": "xc40V4DaG9zM"
      },
      "source": [
        "# Training loop\n",
        "Generate sessions, select N best and fit to those."
      ]
    },
    {
      "cell_type": "code",
      "execution_count": 8,
      "metadata": {
        "id": "PPwVKwF7G9zM"
      },
      "outputs": [],
      "source": [
        "from IPython.display import clear_output\n",
        "\n",
        "\n",
        "def show_progress(rewards_batch, log, percentile, reward_range=[-990, +10]):\n",
        "    \"\"\"\n",
        "    A convenience function that displays training progress.\n",
        "    No cool math here, just charts.\n",
        "    \"\"\"\n",
        "\n",
        "    mean_reward = np.mean(rewards_batch)\n",
        "    threshold = np.percentile(rewards_batch, percentile)\n",
        "    log.append([mean_reward, threshold])\n",
        "\n",
        "    clear_output(True)\n",
        "    print(\"mean reward = %.3f, threshold=%.3f\" % (mean_reward, threshold))\n",
        "    plt.figure(figsize=[8, 4])\n",
        "    plt.subplot(1, 2, 1)\n",
        "    plt.plot(list(zip(*log))[0], label=\"Mean rewards\")\n",
        "    plt.plot(list(zip(*log))[1], label=\"Reward thresholds\")\n",
        "    plt.legend()\n",
        "    plt.grid()\n",
        "\n",
        "    plt.subplot(1, 2, 2)\n",
        "    plt.hist(rewards_batch, range=reward_range)\n",
        "    plt.vlines(\n",
        "        [np.percentile(rewards_batch, percentile)],\n",
        "        [0],\n",
        "        [100],\n",
        "        label=\"percentile\",\n",
        "        color=\"red\",\n",
        "    )\n",
        "    plt.legend()\n",
        "    plt.grid()\n",
        "\n",
        "    plt.show()\n"
      ]
    },
    {
      "cell_type": "code",
      "execution_count": 9,
      "metadata": {
        "id": "euK7WRQiG9zM",
        "colab": {
          "base_uri": "https://localhost:8080/",
          "height": 742
        },
        "outputId": "4c4fc967-dec0-42b5-bc71-5e5d15b0ce09"
      },
      "outputs": [
        {
          "output_type": "stream",
          "name": "stdout",
          "text": [
            "mean reward = 944.500, threshold=1000.000\n"
          ]
        },
        {
          "output_type": "display_data",
          "data": {
            "text/plain": [
              "<Figure size 800x400 with 2 Axes>"
            ],
            "image/png": "[encoded data removed]"
          },
          "metadata": {}
        },
        {
          "output_type": "stream",
          "name": "stdout",
          "text": [
            "You Win! You may stop training now via KeyboardInterrupt.\n"
          ]
        },
        {
          "output_type": "error",
          "ename": "KeyboardInterrupt",
          "evalue": "",
          "traceback": [
            "\u001b[0;31m---------------------------------------------------------------------------\u001b[0m",
            "\u001b[0;31mKeyboardInterrupt\u001b[0m                         Traceback (most recent call last)",
            "\u001b[0;32m<ipython-input-9-f25fb7886e39>\u001b[0m in \u001b[0;36m<cell line: 0>\u001b[0;34m()\u001b[0m\n\u001b[1;32m      5\u001b[0m \u001b[0;32mfor\u001b[0m \u001b[0mi\u001b[0m \u001b[0;32min\u001b[0m \u001b[0mrange\u001b[0m\u001b[0;34m(\u001b[0m\u001b[0;36m100\u001b[0m\u001b[0;34m)\u001b[0m\u001b[0;34m:\u001b[0m\u001b[0;34m\u001b[0m\u001b[0;34m\u001b[0m\u001b[0m\n\u001b[1;32m      6\u001b[0m     \u001b[0;31m# generate new sessions\u001b[0m\u001b[0;34m\u001b[0m\u001b[0;34m\u001b[0m\u001b[0m\n\u001b[0;32m----> 7\u001b[0;31m     \u001b[0msessions\u001b[0m \u001b[0;34m=\u001b[0m \u001b[0;34m[\u001b[0m\u001b[0mgenerate_session\u001b[0m\u001b[0;34m(\u001b[0m\u001b[0menv\u001b[0m\u001b[0;34m,\u001b[0m \u001b[0magent\u001b[0m\u001b[0;34m)\u001b[0m \u001b[0;32mfor\u001b[0m \u001b[0m_\u001b[0m \u001b[0;32min\u001b[0m \u001b[0mrange\u001b[0m\u001b[0;34m(\u001b[0m\u001b[0mn_sessions\u001b[0m\u001b[0;34m)\u001b[0m\u001b[0;34m]\u001b[0m\u001b[0;34m\u001b[0m\u001b[0;34m\u001b[0m\u001b[0m\n\u001b[0m\u001b[1;32m      8\u001b[0m     \u001b[0;31m#states_batch, actions_batch, rewards_batch = map(np.array, zip(*sessions))\u001b[0m\u001b[0;34m\u001b[0m\u001b[0;34m\u001b[0m\u001b[0m\n\u001b[1;32m      9\u001b[0m     \u001b[0mstates_batch\u001b[0m\u001b[0;34m,\u001b[0m \u001b[0mactions_batch\u001b[0m\u001b[0;34m,\u001b[0m \u001b[0mrewards_batch\u001b[0m \u001b[0;34m=\u001b[0m \u001b[0mzip\u001b[0m\u001b[0;34m(\u001b[0m\u001b[0;34m*\u001b[0m\u001b[0msessions\u001b[0m\u001b[0;34m)\u001b[0m\u001b[0;34m\u001b[0m\u001b[0;34m\u001b[0m\u001b[0m\n",
            "\u001b[0;32m<ipython-input-9-f25fb7886e39>\u001b[0m in \u001b[0;36m<listcomp>\u001b[0;34m(.0)\u001b[0m\n\u001b[1;32m      5\u001b[0m \u001b[0;32mfor\u001b[0m \u001b[0mi\u001b[0m \u001b[0;32min\u001b[0m \u001b[0mrange\u001b[0m\u001b[0;34m(\u001b[0m\u001b[0;36m100\u001b[0m\u001b[0;34m)\u001b[0m\u001b[0;34m:\u001b[0m\u001b[0;34m\u001b[0m\u001b[0;34m\u001b[0m\u001b[0m\n\u001b[1;32m      6\u001b[0m     \u001b[0;31m# generate new sessions\u001b[0m\u001b[0;34m\u001b[0m\u001b[0;34m\u001b[0m\u001b[0m\n\u001b[0;32m----> 7\u001b[0;31m     \u001b[0msessions\u001b[0m \u001b[0;34m=\u001b[0m \u001b[0;34m[\u001b[0m\u001b[0mgenerate_session\u001b[0m\u001b[0;34m(\u001b[0m\u001b[0menv\u001b[0m\u001b[0;34m,\u001b[0m \u001b[0magent\u001b[0m\u001b[0;34m)\u001b[0m \u001b[0;32mfor\u001b[0m \u001b[0m_\u001b[0m \u001b[0;32min\u001b[0m \u001b[0mrange\u001b[0m\u001b[0;34m(\u001b[0m\u001b[0mn_sessions\u001b[0m\u001b[0;34m)\u001b[0m\u001b[0;34m]\u001b[0m\u001b[0;34m\u001b[0m\u001b[0;34m\u001b[0m\u001b[0m\n\u001b[0m\u001b[1;32m      8\u001b[0m     \u001b[0;31m#states_batch, actions_batch, rewards_batch = map(np.array, zip(*sessions))\u001b[0m\u001b[0;34m\u001b[0m\u001b[0;34m\u001b[0m\u001b[0m\n\u001b[1;32m      9\u001b[0m     \u001b[0mstates_batch\u001b[0m\u001b[0;34m,\u001b[0m \u001b[0mactions_batch\u001b[0m\u001b[0;34m,\u001b[0m \u001b[0mrewards_batch\u001b[0m \u001b[0;34m=\u001b[0m \u001b[0mzip\u001b[0m\u001b[0;34m(\u001b[0m\u001b[0;34m*\u001b[0m\u001b[0msessions\u001b[0m\u001b[0;34m)\u001b[0m\u001b[0;34m\u001b[0m\u001b[0;34m\u001b[0m\u001b[0m\n",
            "\u001b[0;32m<ipython-input-5-d399bd5f2d9f>\u001b[0m in \u001b[0;36mgenerate_session\u001b[0;34m(env, agent, t_max)\u001b[0m\n\u001b[1;32m     13\u001b[0m \u001b[0;34m\u001b[0m\u001b[0m\n\u001b[1;32m     14\u001b[0m         \u001b[0;31m# use agent to predict a vector of action probabilities for state :s:\u001b[0m\u001b[0;34m\u001b[0m\u001b[0;34m\u001b[0m\u001b[0m\n\u001b[0;32m---> 15\u001b[0;31m         \u001b[0mprobs\u001b[0m\u001b[0;34m=\u001b[0m\u001b[0mnp\u001b[0m\u001b[0;34m.\u001b[0m\u001b[0mreshape\u001b[0m\u001b[0;34m(\u001b[0m\u001b[0magent\u001b[0m\u001b[0;34m.\u001b[0m\u001b[0mpredict_proba\u001b[0m\u001b[0;34m(\u001b[0m\u001b[0;34m[\u001b[0m\u001b[0ms\u001b[0m\u001b[0;34m]\u001b[0m\u001b[0;34m)\u001b[0m\u001b[0;34m,\u001b[0m\u001b[0mn_actions\u001b[0m\u001b[0;34m)\u001b[0m\u001b[0;34m\u001b[0m\u001b[0;34m\u001b[0m\u001b[0m\n\u001b[0m\u001b[1;32m     16\u001b[0m         \u001b[0;32massert\u001b[0m \u001b[0mprobs\u001b[0m\u001b[0;34m.\u001b[0m\u001b[0mshape\u001b[0m \u001b[0;34m==\u001b[0m \u001b[0;34m(\u001b[0m\u001b[0menv\u001b[0m\u001b[0;34m.\u001b[0m\u001b[0maction_space\u001b[0m\u001b[0;34m.\u001b[0m\u001b[0mn\u001b[0m\u001b[0;34m,\u001b[0m\u001b[0;34m)\u001b[0m\u001b[0;34m,\u001b[0m \u001b[0;34m\"make sure probabilities are a vector (hint: np.reshape)\"\u001b[0m\u001b[0;34m\u001b[0m\u001b[0;34m\u001b[0m\u001b[0m\n\u001b[1;32m     17\u001b[0m \u001b[0;34m\u001b[0m\u001b[0m\n",
            "\u001b[0;32m/usr/local/lib/python3.11/dist-packages/sklearn/neural_network/_multilayer_perceptron.py\u001b[0m in \u001b[0;36mpredict_proba\u001b[0;34m(self, X)\u001b[0m\n\u001b[1;32m   1261\u001b[0m             \u001b[0mmodel\u001b[0m\u001b[0;34m,\u001b[0m \u001b[0mwhere\u001b[0m \u001b[0mclasses\u001b[0m \u001b[0mare\u001b[0m \u001b[0mordered\u001b[0m \u001b[0;32mas\u001b[0m \u001b[0mthey\u001b[0m \u001b[0mare\u001b[0m \u001b[0;32min\u001b[0m\u001b[0;31m \u001b[0m\u001b[0;31m`\u001b[0m\u001b[0mself\u001b[0m\u001b[0;34m.\u001b[0m\u001b[0mclasses_\u001b[0m\u001b[0;31m`\u001b[0m\u001b[0;34m.\u001b[0m\u001b[0;34m\u001b[0m\u001b[0;34m\u001b[0m\u001b[0m\n\u001b[1;32m   1262\u001b[0m         \"\"\"\n\u001b[0;32m-> 1263\u001b[0;31m         \u001b[0mcheck_is_fitted\u001b[0m\u001b[0;34m(\u001b[0m\u001b[0mself\u001b[0m\u001b[0;34m)\u001b[0m\u001b[0;34m\u001b[0m\u001b[0;34m\u001b[0m\u001b[0m\n\u001b[0m\u001b[1;32m   1264\u001b[0m         \u001b[0my_pred\u001b[0m \u001b[0;34m=\u001b[0m \u001b[0mself\u001b[0m\u001b[0;34m.\u001b[0m\u001b[0m_forward_pass_fast\u001b[0m\u001b[0;34m(\u001b[0m\u001b[0mX\u001b[0m\u001b[0;34m)\u001b[0m\u001b[0;34m\u001b[0m\u001b[0;34m\u001b[0m\u001b[0m\n\u001b[1;32m   1265\u001b[0m \u001b[0;34m\u001b[0m\u001b[0m\n",
            "\u001b[0;32m/usr/local/lib/python3.11/dist-packages/sklearn/utils/validation.py\u001b[0m in \u001b[0;36mcheck_is_fitted\u001b[0;34m(estimator, attributes, msg, all_or_any)\u001b[0m\n\u001b[1;32m   1749\u001b[0m         \u001b[0;32mraise\u001b[0m \u001b[0mTypeError\u001b[0m\u001b[0;34m(\u001b[0m\u001b[0;34m\"%s is not an estimator instance.\"\u001b[0m \u001b[0;34m%\u001b[0m \u001b[0;34m(\u001b[0m\u001b[0mestimator\u001b[0m\u001b[0;34m)\u001b[0m\u001b[0;34m)\u001b[0m\u001b[0;34m\u001b[0m\u001b[0;34m\u001b[0m\u001b[0m\n\u001b[1;32m   1750\u001b[0m \u001b[0;34m\u001b[0m\u001b[0m\n\u001b[0;32m-> 1751\u001b[0;31m     \u001b[0mtags\u001b[0m \u001b[0;34m=\u001b[0m \u001b[0mget_tags\u001b[0m\u001b[0;34m(\u001b[0m\u001b[0mestimator\u001b[0m\u001b[0;34m)\u001b[0m\u001b[0;34m\u001b[0m\u001b[0;34m\u001b[0m\u001b[0m\n\u001b[0m\u001b[1;32m   1752\u001b[0m \u001b[0;34m\u001b[0m\u001b[0m\n\u001b[1;32m   1753\u001b[0m     \u001b[0;32mif\u001b[0m \u001b[0;32mnot\u001b[0m \u001b[0mtags\u001b[0m\u001b[0;34m.\u001b[0m\u001b[0mrequires_fit\u001b[0m \u001b[0;32mand\u001b[0m \u001b[0mattributes\u001b[0m \u001b[0;32mis\u001b[0m \u001b[0;32mNone\u001b[0m\u001b[0;34m:\u001b[0m\u001b[0;34m\u001b[0m\u001b[0;34m\u001b[0m\u001b[0m\n",
            "\u001b[0;32m/usr/local/lib/python3.11/dist-packages/sklearn/utils/_tags.py\u001b[0m in \u001b[0;36mget_tags\u001b[0;34m(estimator)\u001b[0m\n\u001b[1;32m    391\u001b[0m     \"\"\"\n\u001b[1;32m    392\u001b[0m \u001b[0;34m\u001b[0m\u001b[0m\n\u001b[0;32m--> 393\u001b[0;31m     \u001b[0mtag_provider\u001b[0m \u001b[0;34m=\u001b[0m \u001b[0m_find_tags_provider\u001b[0m\u001b[0;34m(\u001b[0m\u001b[0mestimator\u001b[0m\u001b[0;34m)\u001b[0m\u001b[0;34m\u001b[0m\u001b[0;34m\u001b[0m\u001b[0m\n\u001b[0m\u001b[1;32m    394\u001b[0m \u001b[0;34m\u001b[0m\u001b[0m\n\u001b[1;32m    395\u001b[0m     \u001b[0;32mif\u001b[0m \u001b[0mtag_provider\u001b[0m \u001b[0;34m==\u001b[0m \u001b[0;34m\"__sklearn_tags__\"\u001b[0m\u001b[0;34m:\u001b[0m\u001b[0;34m\u001b[0m\u001b[0;34m\u001b[0m\u001b[0m\n",
            "\u001b[0;32m/usr/local/lib/python3.11/dist-packages/sklearn/utils/_tags.py\u001b[0m in \u001b[0;36m_find_tags_provider\u001b[0;34m(estimator, warn)\u001b[0m\n\u001b[1;32m    323\u001b[0m     \u001b[0;32mfor\u001b[0m \u001b[0mklass\u001b[0m \u001b[0;32min\u001b[0m \u001b[0mmro_model\u001b[0m\u001b[0;34m:\u001b[0m\u001b[0;34m\u001b[0m\u001b[0;34m\u001b[0m\u001b[0m\n\u001b[1;32m    324\u001b[0m         \u001b[0mtags_provider\u001b[0m \u001b[0;34m=\u001b[0m \u001b[0;34m[\u001b[0m\u001b[0;34m]\u001b[0m\u001b[0;34m\u001b[0m\u001b[0;34m\u001b[0m\u001b[0m\n\u001b[0;32m--> 325\u001b[0;31m         \u001b[0;32mif\u001b[0m \u001b[0;34m\"_more_tags\"\u001b[0m \u001b[0;32min\u001b[0m \u001b[0mvars\u001b[0m\u001b[0;34m(\u001b[0m\u001b[0mklass\u001b[0m\u001b[0;34m)\u001b[0m\u001b[0;34m:\u001b[0m\u001b[0;34m\u001b[0m\u001b[0;34m\u001b[0m\u001b[0m\n\u001b[0m\u001b[1;32m    326\u001b[0m             \u001b[0mtags_provider\u001b[0m\u001b[0;34m.\u001b[0m\u001b[0mappend\u001b[0m\u001b[0;34m(\u001b[0m\u001b[0;34m\"_more_tags\"\u001b[0m\u001b[0;34m)\u001b[0m\u001b[0;34m\u001b[0m\u001b[0;34m\u001b[0m\u001b[0m\n\u001b[1;32m    327\u001b[0m         \u001b[0;32mif\u001b[0m \u001b[0;34m\"_get_tags\"\u001b[0m \u001b[0;32min\u001b[0m \u001b[0mvars\u001b[0m\u001b[0;34m(\u001b[0m\u001b[0mklass\u001b[0m\u001b[0;34m)\u001b[0m\u001b[0;34m:\u001b[0m\u001b[0;34m\u001b[0m\u001b[0;34m\u001b[0m\u001b[0m\n",
            "\u001b[0;31mKeyboardInterrupt\u001b[0m: "
          ]
        }
      ],
      "source": [
        "n_sessions = 100\n",
        "percentile = 70\n",
        "log = []\n",
        "\n",
        "for i in range(100):\n",
        "    # generate new sessions\n",
        "    sessions = [generate_session(env, agent) for _ in range(n_sessions)]\n",
        "    #states_batch, actions_batch, rewards_batch = map(np.array, zip(*sessions))\n",
        "    states_batch, actions_batch, rewards_batch = zip(*sessions)\n",
        "\n",
        "    elite_states, elite_actions = select_elites(states_batch, actions_batch, rewards_batch, percentile)\n",
        "\n",
        "    #<YOUR CODE: partial_fit agent to predict elite_actions(y) from elite_states(X)>\n",
        "    agent.partial_fit(elite_states, elite_actions)\n",
        "    show_progress(\n",
        "        rewards_batch, log, percentile, reward_range=[0, np.max(rewards_batch)]\n",
        "    )\n",
        "\n",
        "    if np.mean(rewards_batch) > 190:\n",
        "        print(\"You Win! You may stop training now via KeyboardInterrupt.\")\n"
      ]
    },
    {
      "cell_type": "markdown",
      "metadata": {
        "id": "yeNWKjtsG9zM"
      },
      "source": [
        "# Results"
      ]
    },
    {
      "cell_type": "code",
      "execution_count": 10,
      "metadata": {
        "id": "RJwsWl4kG9zM",
        "colab": {
          "base_uri": "https://localhost:8080/"
        },
        "outputId": "ce90b308-8871-4cc0-f869-9432b62abb88"
      },
      "outputs": [
        {
          "output_type": "stream",
          "name": "stderr",
          "text": [
            "/usr/local/lib/python3.11/dist-packages/gymnasium/envs/registration.py:519: DeprecationWarning: \u001b[33mWARN: The environment CartPole-v0 is out of date. You should consider upgrading to version `v1`.\u001b[0m\n",
            "  logger.deprecation(\n"
          ]
        }
      ],
      "source": [
        "# Record sessions\n",
        "\n",
        "from gymnasium.wrappers import RecordVideo\n",
        "\n",
        "with RecordVideo(\n",
        "    env=gym.make(\"CartPole-v0\", render_mode=\"rgb_array\"),\n",
        "    video_folder=\"./videos\",\n",
        "    episode_trigger=lambda episode_number: True,\n",
        ") as env_monitor:\n",
        "    sessions = [generate_session(env_monitor, agent) for _ in range(100)]\n"
      ]
    },
    {
      "cell_type": "code",
      "execution_count": 11,
      "metadata": {
        "id": "kLPXdME7G9zN",
        "colab": {
          "base_uri": "https://localhost:8080/",
          "height": 502
        },
        "outputId": "f3e46903-90a2-40bc-e8ce-29a15508e198"
      },
      "outputs": [
        {
          "output_type": "execute_result",
          "data": {
            "text/plain": [
              "<IPython.core.display.HTML object>"
            ],
            "text/html": [
              "\n",
              "<video width=\"640\" height=\"480\" controls>\n",
              "  <source src=\"data:video/mp4;base64,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\" type=\"video/mp4\">\n",
              "</video>\n"
            ]
          },
          "metadata": {},
          "execution_count": 11
        }
      ],
      "source": [
        "# Show video. This may not work in some setups. If it doesn't\n",
        "# work for you, you can download the videos and view them locally.\n",
        "\n",
        "from pathlib import Path\n",
        "from base64 import b64encode\n",
        "from IPython.display import HTML\n",
        "\n",
        "video_paths = sorted([s for s in Path(\"videos\").iterdir() if s.suffix == \".mp4\"])\n",
        "video_path = video_paths[-1]  # You can also try other indices\n",
        "\n",
        "if \"google.colab\" in sys.modules:\n",
        "    # https://stackoverflow.com/a/57378660/1214547\n",
        "    with video_path.open(\"rb\") as fp:\n",
        "        mp4 = fp.read()\n",
        "    data_url = \"data:video/mp4;base64,\" + b64encode(mp4).decode()\n",
        "else:\n",
        "    data_url = str(video_path)\n",
        "\n",
        "HTML(\n",
        "    \"\"\"\n",
        "<video width=\"640\" height=\"480\" controls>\n",
        "  <source src=\"{}\" type=\"video/mp4\">\n",
        "</video>\n",
        "\"\"\".format(\n",
        "        data_url\n",
        "    )\n",
        ")\n"
      ]
    },
    {
      "cell_type": "markdown",
      "metadata": {
        "id": "6d_3oOQ1G9zN"
      },
      "source": [
        "# Homework part I\n",
        "\n",
        "### Tabular crossentropy method\n",
        "\n",
        "You may have noticed that the taxi problem quickly converges from -100 to a near-optimal score and then descends back into -50/-100. This is in part because the environment has some innate randomness. Namely, the starting points of passenger/driver change from episode to episode.\n",
        "\n",
        "### Tasks\n",
        "- __1.1__ (2 pts) Find out how the algorithm performance changes if you use a different `percentile` and/or `n_sessions`. Provide here some figures so we can see how the hyperparameters influence the performance.\n",
        "- __1.2__ (1 pts) Tune the algorithm to end up with positive average score.\n",
        "\n",
        "It's okay to modify the existing code.\n"
      ]
    },
    {
      "cell_type": "markdown",
      "metadata": {
        "id": "L88LySiVG9zN"
      },
      "source": [
        "```<Describe what you did here>```"
      ]
    },
    {
      "cell_type": "markdown",
      "metadata": {
        "id": "7LpAJc4rG9zN"
      },
      "source": [
        "# Homework part II\n",
        "\n",
        "### Deep crossentropy method\n",
        "\n",
        "By this moment, you should have got enough score on [CartPole-v0](https://gymnasium.farama.org/environments/classic_control/cart_pole/) to consider it solved (see the link). It's time to try something harder.\n",
        "\n",
        "* if you have any trouble with CartPole-v0 and feel stuck, feel free to ask us or your peers for help.\n",
        "\n",
        "### Tasks\n",
        "\n",
        "* __2.1__ (3 pts) Pick one of environments: `MountainCar-v0` or `LunarLander-v2`.\n",
        "  * For MountainCar, get average reward of __at least -150__\n",
        "  * For LunarLander, get average reward of __at least +50__\n",
        "\n",
        "See the tips section below, it's kinda important.\n",
        "__Note:__ If your agent is below the target score, you'll still get some of the points depending on the result, so don't be afraid to submit it.\n",
        "  \n",
        "  \n",
        "* __2.2__ (up to 6 pts) Devise a way to speed up training against the default version\n",
        "  * Obvious improvement: use [`joblib`](https://joblib.readthedocs.io/en/latest/). However, note that you will probably need to spawn a new environment in each of the workers instead of passing it via pickling. (2 pts)\n",
        "  * Try re-using samples from 3-5 last iterations when computing threshold and training. (2 pts)\n",
        "  * Obtain __-100__ at `MountainCar-v0` or __+200__ at `LunarLander-v2` (2 pts). Feel free to experiment with hyperparameters, architectures, schedules etc.\n",
        "  \n",
        "__Please list what you did in Anytask submission form__. This reduces probability that somebody misses something.\n",
        "  \n",
        "  \n",
        "### Tips\n",
        "* Gymnasium pages: [MountainCar](https://gymnasium.farama.org/environments/classic_control/mountain_car/), [LunarLander](https://gymnasium.farama.org/environments/box2d/lunar_lander/)\n",
        "* Sessions for MountainCar may last for 10k+ ticks. Make sure ```t_max``` param is at least 10k.\n",
        " * Also it may be a good idea to cut rewards via \">\" and not \">=\". If 90% of your sessions get reward of -10k and 10% are better, than if you use percentile 20% as threshold, R >= threshold __fails to cut off bad sessions__ while R > threshold works alright.\n",
        "* _issue with gym_: Some versions of gym limit game time by 200 ticks. This will prevent cem training in most cases. Make sure your agent is able to play for the specified __t_max__, and if it isn't, try `env = gym.make(\"MountainCar-v0\").env` or otherwise get rid of TimeLimit wrapper.\n",
        "* If you use old _swig_ lib for LunarLander-v2, you may get an error. See this [issue](https://github.com/openai/gym/issues/100) for solution.\n",
        "* If it doesn't train, it's a good idea to plot reward distribution and record sessions: they may give you some clue. If they don't, call course staff :)\n",
        "* 20-neuron network is probably not enough, feel free to experiment.\n",
        "\n",
        "You may find the following snippet useful:"
      ]
    },
    {
      "cell_type": "code",
      "execution_count": null,
      "metadata": {
        "id": "qcjz-nm_G9zN"
      },
      "outputs": [],
      "source": [
        "def visualize_mountain_car(env, agent):\n",
        "    # Compute policy for all possible x and v (with discretization)\n",
        "    xs = np.linspace(env.min_position, env.max_position, 100)\n",
        "    vs = np.linspace(-env.max_speed, env.max_speed, 100)\n",
        "\n",
        "    grid = np.dstack(np.meshgrid(xs, vs[::-1])).transpose(1, 0, 2)\n",
        "    grid_flat = grid.reshape(len(xs) * len(vs), 2)\n",
        "    probs = (\n",
        "        agent.predict_proba(grid_flat).reshape(len(xs), len(vs), 3).transpose(1, 0, 2)\n",
        "    )\n",
        "\n",
        "    # # The above code is equivalent to the following:\n",
        "    # probs = np.empty((len(vs), len(xs), 3))\n",
        "    # for i, v in enumerate(vs[::-1]):\n",
        "    #     for j, x in enumerate(xs):\n",
        "    #         probs[i, j, :] = agent.predict_proba([[x, v]])[0]\n",
        "\n",
        "    # Draw policy\n",
        "    f, ax = plt.subplots(figsize=(7, 7))\n",
        "    ax.imshow(\n",
        "        probs,\n",
        "        extent=(env.min_position, env.max_position, -env.max_speed, env.max_speed),\n",
        "        aspect=\"auto\",\n",
        "    )\n",
        "    ax.set_title(\"Learned policy: red=left, green=nothing, blue=right\")\n",
        "    ax.set_xlabel(\"position (x)\")\n",
        "    ax.set_ylabel(\"velocity (v)\")\n",
        "\n",
        "    # Sample a trajectory and draw it\n",
        "    states, actions, _ = generate_session(env, agent)\n",
        "    states = np.array(states)\n",
        "    ax.plot(states[:, 0], states[:, 1], color=\"white\")\n",
        "\n",
        "    # Draw every 3rd action from the trajectory\n",
        "    for (x, v), a in zip(states[::3], actions[::3]):\n",
        "        if a == 0:\n",
        "            plt.arrow(x, v, -0.1, 0, color=\"white\", head_length=0.02)\n",
        "        elif a == 2:\n",
        "            plt.arrow(x, v, 0.1, 0, color=\"white\", head_length=0.02)\n",
        "\n",
        "\n",
        "with gym.make(\"MountainCar-v0\", render_mode=\"rgb_arrary\").env as env:\n",
        "    visualize_mountain_car(env, agent)\n"
      ]
    },
    {
      "cell_type": "markdown",
      "metadata": {
        "id": "Dzk41lDPG9zO"
      },
      "source": [
        "### Bonus tasks\n",
        "\n",
        "* __2.3 bonus__ (2 pts) Try to find a network architecture and training params that solve __both__ environments above (_Points depend on implementation. If you attempted this task, please mention it in Anytask submission._)\n",
        "\n",
        "* __2.4 bonus__ (4 pts) Solve continuous action space task with `MLPRegressor` or similar.\n",
        "  * Since your agent only predicts the \"expected\" action, you will have to add noise to ensure exploration.\n",
        "  * Choose one of [MountainCarContinuous-v0](https://gymnasium.farama.org/environments/classic_control/mountain_car_continuous/) (90+ pts to solve), [LunarLanderContinuous-v2](https://gymnasium.farama.org/environments/box2d/lunar_lander/) (`env = gym.make(\"LunarLander-v2\", continuous=True)`)(200+ pts to solve)\n",
        "  * 4 points for solving. Slightly less for getting some results below solution threshold. Note that discrete and continuous environments may have slightly different rules, aside from action spaces."
      ]
    }
  ],
  "metadata": {
    "colab": {
      "provenance": [],
      "gpuType": "T4"
    },
    "kernelspec": {
      "display_name": "Python 3",
      "name": "python3"
    },
    "language_info": {
      "codemirror_mode": {
        "name": "ipython",
        "version": 3
      },
      "file_extension": ".py",
      "mimetype": "text/x-python",
      "name": "python",
      "nbconvert_exporter": "python",
      "pygments_lexer": "ipython3",
      "version": "3.8.5"
    },
    "accelerator": "GPU"
  },
  "nbformat": 4,
  "nbformat_minor": 0
}